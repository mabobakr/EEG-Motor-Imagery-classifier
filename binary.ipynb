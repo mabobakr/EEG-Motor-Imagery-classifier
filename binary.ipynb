{
 "cells": [
  {
   "cell_type": "code",
   "execution_count": 1,
   "metadata": {},
   "outputs": [],
   "source": [
    "from preprocessing import * \n",
    "from sklearn import svm\n",
    "from sklearn import pipeline\n",
    "from sklearn.preprocessing import StandardScaler\n",
    "from sklearn.metrics import cohen_kappa_score\n",
    "from joblib import dump, load\n",
    "\n",
    "%load_ext autoreload\n",
    "%autoreload 2"
   ]
  },
  {
   "cell_type": "code",
   "execution_count": 2,
   "metadata": {},
   "outputs": [],
   "source": [
    "# %%capture\n",
    "# convert_data()\n"
   ]
  },
  {
   "cell_type": "code",
   "execution_count": 3,
   "metadata": {},
   "outputs": [
    {
     "name": "stdout",
     "output_type": "stream",
     "text": [
      "final shapes are:  (336, 25, 750) (85, 25, 750) (336,) (85,)\n"
     ]
    }
   ],
   "source": [
    "i = 7\n",
    "\n",
    "x_train, y_train = read_file(\"idle_train\", f\"A0{i}\")\n",
    "x_test, y_test = read_file(\"idle_test\", f\"A0{i}\")\n",
    "\n",
    "\n",
    "print(\"final shapes are: \", x_train.shape, x_test.shape, y_train.shape, y_test.shape)\n"
   ]
  },
  {
   "cell_type": "code",
   "execution_count": 4,
   "metadata": {},
   "outputs": [],
   "source": [
    "%%capture\n",
    "train_coeff = featurize(x_train)\n",
    "coeff_len = len(train_coeff)\n",
    "\n",
    "csp = [mne.decoding.CSP(8) for _ in range(coeff_len)]\n",
    "x_train_f = np.concatenate(tuple(csp[x].fit_transform(train_coeff[x], y_train) for x  in range(coeff_len)),axis=-1)\n",
    "\n"
   ]
  },
  {
   "cell_type": "code",
   "execution_count": 5,
   "metadata": {},
   "outputs": [],
   "source": [
    "test_coeff = featurize(x_test)\n",
    "x_test_f = np.concatenate(tuple(csp[x].transform(test_coeff[x]) for x  in range(coeff_len)),axis=-1)\n"
   ]
  },
  {
   "cell_type": "code",
   "execution_count": 6,
   "metadata": {},
   "outputs": [
    {
     "name": "stdout",
     "output_type": "stream",
     "text": [
      "Accuracy is  1.0\n",
      "336\n",
      "test Accuracy is  1.0\n",
      "85\n",
      "kappa score on train is:  1.0\n",
      "kappa score on test is:  1.0\n"
     ]
    }
   ],
   "source": [
    "clf = pipeline.make_pipeline(StandardScaler(), svm.SVC())\n",
    "clf.fit(x_train_f, y_train)\n",
    "\n",
    "print(\"Accuracy is \", clf.score(x_train_f, y_train))\n",
    "print(len(x_train))\n",
    "\n",
    "print(\"test Accuracy is \", clf.score(x_test_f ,y_test))\n",
    "print(len(x_test))\n",
    "\n",
    "print(\"kappa score on train is: \", cohen_kappa_score(clf.predict(x_train_f), y_train))\n",
    "print(\"kappa score on test is: \", cohen_kappa_score(clf.predict(x_test_f), y_test))\n"
   ]
  },
  {
   "cell_type": "code",
   "execution_count": 7,
   "metadata": {},
   "outputs": [
    {
     "name": "stdout",
     "output_type": "stream",
     "text": [
      "              precision    recall  f1-score   support\n",
      "\n",
      "         0.0       1.00      1.00      1.00        27\n",
      "         1.0       1.00      1.00      1.00        58\n",
      "\n",
      "    accuracy                           1.00        85\n",
      "   macro avg       1.00      1.00      1.00        85\n",
      "weighted avg       1.00      1.00      1.00        85\n",
      "\n"
     ]
    }
   ],
   "source": [
    "from sklearn.metrics import accuracy_score, confusion_matrix, classification_report\n",
    "\n",
    "print(classification_report(y_test, clf.predict(x_test_f)))"
   ]
  },
  {
   "cell_type": "code",
   "execution_count": 8,
   "metadata": {},
   "outputs": [
    {
     "data": {
      "text/plain": [
       "['idle_csp.joblib']"
      ]
     },
     "execution_count": 8,
     "metadata": {},
     "output_type": "execute_result"
    }
   ],
   "source": [
    "dump(clf, \"idle_model.joblib\")\n",
    "dump(csp, \"idle_csp.joblib\")"
   ]
  },
  {
   "cell_type": "code",
   "execution_count": null,
   "metadata": {},
   "outputs": [],
   "source": []
  }
 ],
 "metadata": {
  "kernelspec": {
   "display_name": "Python 3.9.1 64-bit",
   "language": "python",
   "name": "python3"
  },
  "language_info": {
   "codemirror_mode": {
    "name": "ipython",
    "version": 3
   },
   "file_extension": ".py",
   "mimetype": "text/x-python",
   "name": "python",
   "nbconvert_exporter": "python",
   "pygments_lexer": "ipython3",
   "version": "3.9.1"
  },
  "orig_nbformat": 4,
  "vscode": {
   "interpreter": {
    "hash": "e5356a0cc24ab421f3fea7505d1e0be20cb885e675eb5d16ff02cf791c65a604"
   }
  }
 },
 "nbformat": 4,
 "nbformat_minor": 2
}
