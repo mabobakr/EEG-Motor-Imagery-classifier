{
 "cells": [
  {
   "cell_type": "code",
   "execution_count": 9,
   "metadata": {},
   "outputs": [
    {
     "name": "stdout",
     "output_type": "stream",
     "text": [
      "The autoreload extension is already loaded. To reload it, use:\n",
      "  %reload_ext autoreload\n"
     ]
    }
   ],
   "source": [
    "from preprocessing import * \n",
    "from sklearn import svm\n",
    "from sklearn import pipeline\n",
    "from sklearn.preprocessing import StandardScaler\n",
    "from sklearn.metrics import cohen_kappa_score\n",
    "from joblib import dump, load\n",
    "\n",
    "%load_ext autoreload\n",
    "%autoreload 2"
   ]
  },
  {
   "cell_type": "markdown",
   "metadata": {},
   "source": [
    "# Convert GDF files to numpy"
   ]
  },
  {
   "cell_type": "code",
   "execution_count": null,
   "metadata": {},
   "outputs": [],
   "source": [
    "%%capture\n",
    "# Uncomment the next to split the data folder into train and test\n",
    "# convert_data()\n"
   ]
  },
  {
   "cell_type": "markdown",
   "metadata": {},
   "source": [
    "# Read split data"
   ]
  },
  {
   "cell_type": "code",
   "execution_count": 10,
   "metadata": {},
   "outputs": [
    {
     "name": "stdout",
     "output_type": "stream",
     "text": [
      "final shapes are:  (230, 25, 750) (230,)\n",
      "final shapes are:  (58, 25, 750) (58,)\n"
     ]
    }
   ],
   "source": [
    "i = 7\n",
    "\n",
    "x_train, y_train = read_file(\"action_train\", f\"A0{i}\")\n",
    "x_test, y_test = read_file(\"action_test\", f\"A0{i}\")\n",
    "\n",
    "\n",
    "print(\"final shapes are: \", x_train.shape, y_train.shape)\n",
    "print(\"final shapes are: \", x_test.shape, y_test.shape)\n"
   ]
  },
  {
   "cell_type": "markdown",
   "metadata": {},
   "source": [
    "# Extract features from test and train data"
   ]
  },
  {
   "cell_type": "code",
   "execution_count": 11,
   "metadata": {},
   "outputs": [],
   "source": [
    "%%capture\n",
    "# Apply wavelet decomposition\n",
    "train_coeff = featurize(x_train)\n",
    "coeff_len = len(train_coeff)\n",
    "\n",
    "# Fit CSP model on train data\n",
    "csp = [mne.decoding.CSP(8) for _ in range(coeff_len)]\n",
    "x_train_f = np.concatenate(tuple(csp[x].fit_transform(train_coeff[x], y_train) for x  in range(coeff_len)),axis=-1)\n",
    "\n",
    "# Transform test data\n",
    "test_coeff = featurize(x_test)\n",
    "x_test_f = np.concatenate(tuple(csp[x].transform(test_coeff[x]) for x  in range(coeff_len)),axis=-1)\n",
    "  "
   ]
  },
  {
   "cell_type": "markdown",
   "metadata": {},
   "source": [
    "# Train model and test"
   ]
  },
  {
   "cell_type": "code",
   "execution_count": 12,
   "metadata": {},
   "outputs": [
    {
     "name": "stdout",
     "output_type": "stream",
     "text": [
      "Accuracy is  1.0\n",
      "230\n",
      "test Accuracy is  0.9482758620689655\n",
      "58\n",
      "kappa score on train is:  1.0\n",
      "kappa score on test is:  0.9303721488595438\n"
     ]
    }
   ],
   "source": [
    "clf = pipeline.make_pipeline(StandardScaler(), svm.SVC())\n",
    "clf.fit(x_train_f, y_train)\n",
    "\n",
    "print(\"Accuracy is \", sum(clf.predict(x_train_f) == y_train) / len(x_train))\n",
    "print(len(x_train))\n",
    "\n",
    "print(\"test Accuracy is \", sum(clf.predict(x_test_f) == y_test) / len(x_test))\n",
    "print(len(x_test))\n",
    "\n",
    "print(\"kappa score on train is: \", cohen_kappa_score(clf.predict(x_train_f), y_train))\n",
    "print(\"kappa score on test is: \", cohen_kappa_score(clf.predict(x_test_f), y_test))\n"
   ]
  },
  {
   "cell_type": "markdown",
   "metadata": {},
   "source": [
    "# Save the trained model"
   ]
  },
  {
   "cell_type": "code",
   "execution_count": 13,
   "metadata": {},
   "outputs": [
    {
     "data": {
      "text/plain": [
       "['csp.joblib']"
      ]
     },
     "execution_count": 13,
     "metadata": {},
     "output_type": "execute_result"
    }
   ],
   "source": [
    "dump(clf, \"model.joblib\")\n",
    "dump(csp, \"csp.joblib\")"
   ]
  },
  {
   "cell_type": "markdown",
   "metadata": {},
   "source": [
    "# View classification report"
   ]
  },
  {
   "cell_type": "code",
   "execution_count": 14,
   "metadata": {},
   "outputs": [
    {
     "name": "stdout",
     "output_type": "stream",
     "text": [
      "              precision    recall  f1-score   support\n",
      "\n",
      "         1.0       0.94      0.94      0.94        17\n",
      "         2.0       1.00      0.93      0.97        15\n",
      "         3.0       0.91      1.00      0.95        10\n",
      "         4.0       0.94      0.94      0.94        16\n",
      "\n",
      "    accuracy                           0.95        58\n",
      "   macro avg       0.95      0.95      0.95        58\n",
      "weighted avg       0.95      0.95      0.95        58\n",
      "\n"
     ]
    }
   ],
   "source": [
    "from sklearn.metrics import accuracy_score, confusion_matrix, classification_report\n",
    "\n",
    "print(classification_report(y_test, clf.predict(x_test_f)))"
   ]
  },
  {
   "cell_type": "markdown",
   "metadata": {},
   "source": [
    "# Calculate average on all subjects"
   ]
  },
  {
   "cell_type": "code",
   "execution_count": null,
   "metadata": {},
   "outputs": [],
   "source": [
    "%%capture\n",
    "outputs= []\n",
    "acc_train_avg = 0\n",
    "acc_test_avg = 0\n",
    "kappa_train_avg = 0\n",
    "kappa_test_avg = 0\n",
    "for i in range(1, 10):\n",
    "\n",
    "  x_train, y_train = read_file(\"action_train\", f\"A0{i}\")\n",
    "  x_test, y_test = read_file(\"action_test\", f\"A0{i}\")\n",
    "\n",
    "\n",
    "  outputs.append((\"final shapes are: \", x_train.shape, y_train.shape))\n",
    "  outputs.append((\"final shapes are: \", x_test.shape, y_test.shape))\n",
    "\n",
    "  train_coeff = featurize(x_train)\n",
    "  coeff_len = len(train_coeff)\n",
    "\n",
    "  csp = [mne.decoding.CSP(8) for _ in range(coeff_len)]\n",
    "  x_train_f = np.concatenate(tuple(csp[x].fit_transform(train_coeff[x], y_train) for x  in range(coeff_len)),axis=-1)\n",
    "\n",
    "  test_coeff = featurize(x_test)\n",
    "  x_test_f = np.concatenate(tuple(csp[x].transform(test_coeff[x]) for x  in range(coeff_len)),axis=-1)\n",
    "\n",
    "  clf = pipeline.make_pipeline(StandardScaler(), svm.SVC())\n",
    "  clf.fit(x_train_f, y_train)\n",
    "  outputs.append(\"*\"*30)\n",
    "  outputs.append(f\"subject {i} is here babeeeeeeeeeee\")\n",
    "  outputs.append((\"Accuracy is \", sum(clf.predict(x_train_f) == y_train) / len(x_train)))\n",
    "  acc_train_avg += sum(clf.predict(x_train_f) == y_train) / len(x_train)\n",
    "  outputs.append(len(x_train))\n",
    "\n",
    "  outputs.append((\"test Accuracy is \", sum(clf.predict(x_test_f) == y_test) / len(x_test)))\n",
    "  outputs.append(len(x_test))\n",
    "  acc_test_avg += sum(clf.predict(x_test_f) == y_test) / len(x_test)\n",
    "\n",
    "  outputs.append((\"kappa score on train is: \", cohen_kappa_score(clf.predict(x_train_f), y_train)))\n",
    "  outputs.append((\"kappa score on test is: \", cohen_kappa_score(clf.predict(x_test_f), y_test)))\n",
    "  kappa_train_avg += cohen_kappa_score(clf.predict(x_train_f), y_train)\n",
    "  kappa_test_avg += cohen_kappa_score(clf.predict(x_test_f), y_test)\n"
   ]
  },
  {
   "cell_type": "markdown",
   "metadata": {},
   "source": [
    "# Print previous cell output"
   ]
  },
  {
   "cell_type": "code",
   "execution_count": null,
   "metadata": {},
   "outputs": [],
   "source": [
    "for i in outputs:\n",
    "  print(i)\n",
    "\n",
    "print(acc_train_avg / 9)\n",
    "print(acc_test_avg / 9)\n",
    "print(kappa_train_avg / 9)\n",
    "print(kappa_test_avg / 9)"
   ]
  },
  {
   "cell_type": "code",
   "execution_count": null,
   "metadata": {},
   "outputs": [],
   "source": []
  }
 ],
 "metadata": {
  "interpreter": {
   "hash": "e5356a0cc24ab421f3fea7505d1e0be20cb885e675eb5d16ff02cf791c65a604"
  },
  "kernelspec": {
   "display_name": "Python 3.9.1 64-bit",
   "language": "python",
   "name": "python3"
  },
  "language_info": {
   "codemirror_mode": {
    "name": "ipython",
    "version": 3
   },
   "file_extension": ".py",
   "mimetype": "text/x-python",
   "name": "python",
   "nbconvert_exporter": "python",
   "pygments_lexer": "ipython3",
   "version": "3.9.1"
  },
  "orig_nbformat": 4
 },
 "nbformat": 4,
 "nbformat_minor": 2
}
