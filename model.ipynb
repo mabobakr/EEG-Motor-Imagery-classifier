{
 "cells": [
  {
   "cell_type": "code",
   "execution_count": 87,
   "metadata": {},
   "outputs": [
    {
     "name": "stdout",
     "output_type": "stream",
     "text": [
      "The autoreload extension is already loaded. To reload it, use:\n",
      "  %reload_ext autoreload\n"
     ]
    }
   ],
   "source": [
    "from preprocessing import * \n",
    "from sklearn import svm\n",
    "from sklearn import pipeline\n",
    "from sklearn.preprocessing import StandardScaler\n",
    "from sklearn.discriminant_analysis import QuadraticDiscriminantAnalysis\n",
    "from scipy import stats\n",
    "import matplotlib.pyplot as plt\n",
    "from sklearn.metrics import cohen_kappa_score\n",
    "from sklearn.neighbors import KNeighborsClassifier\n",
    "from sklearn.model_selection import RandomizedSearchCV\n",
    "from sklearn.model_selection import GridSearchCV\n",
    "\n",
    "from sklearn.multiclass import OneVsRestClassifier\n",
    "\n",
    "import torch\n",
    "from torch import nn, optim\n",
    "from classifier import nn_train, nn_predict, nn_accuracy\n",
    "from torchvision import datasets, transforms, models\n",
    "import time\n",
    "\n",
    "%load_ext autoreload\n",
    "%autoreload 2"
   ]
  },
  {
   "cell_type": "code",
   "execution_count": 88,
   "metadata": {},
   "outputs": [
    {
     "name": "stdout",
     "output_type": "stream",
     "text": [
      "Extracting EDF parameters from d:\\Study\\GP\\EEG-Motor-Imagery-classifier\\data\\A01T.gdf...\n",
      "GDF file detected\n",
      "Setting channel info structure...\n",
      "Could not determine channel type of the following channels, they will be set as EEG:\n",
      "EEG-Fz, EEG, EEG, EEG, EEG, EEG, EEG, EEG-C3, EEG, EEG-Cz, EEG, EEG-C4, EEG, EEG, EEG, EEG, EEG, EEG, EEG, EEG-Pz, EEG, EEG, EOG-left, EOG-central, EOG-right\n",
      "Creating raw.info structure...\n"
     ]
    },
    {
     "name": "stderr",
     "output_type": "stream",
     "text": [
      "c:\\Users\\Mohamad Abo Bakr\\AppData\\Local\\Programs\\Python\\Python39\\lib\\site-packages\\mne\\io\\edf\\edf.py:1123: DeprecationWarning: The binary mode of fromstring is deprecated, as it behaves surprisingly on unicode inputs. Use frombuffer instead\n",
      "  etmode = np.fromstring(etmode, UINT8).tolist()[0]\n",
      "c:\\Users\\Mohamad Abo Bakr\\AppData\\Local\\Programs\\Python\\Python39\\lib\\contextlib.py:124: RuntimeWarning: Channel names are not unique, found duplicates for: {'EEG'}. Applying running numbers for duplicates.\n",
      "  next(self.gen)\n"
     ]
    },
    {
     "name": "stdout",
     "output_type": "stream",
     "text": [
      "Used Annotations descriptions: ['1023', '1072', '276', '277', '32766', '768', '769', '770', '771', '772']\n",
      "Extracting EDF parameters from d:\\Study\\GP\\EEG-Motor-Imagery-classifier\\data\\A02T.gdf...\n",
      "GDF file detected\n",
      "Setting channel info structure...\n",
      "Could not determine channel type of the following channels, they will be set as EEG:\n",
      "EEG-Fz, EEG, EEG, EEG, EEG, EEG, EEG, EEG-C3, EEG, EEG-Cz, EEG, EEG-C4, EEG, EEG, EEG, EEG, EEG, EEG, EEG, EEG-Pz, EEG, EEG, EOG-left, EOG-central, EOG-right\n",
      "Creating raw.info structure...\n"
     ]
    },
    {
     "name": "stderr",
     "output_type": "stream",
     "text": [
      "c:\\Users\\Mohamad Abo Bakr\\AppData\\Local\\Programs\\Python\\Python39\\lib\\site-packages\\mne\\io\\edf\\edf.py:1123: DeprecationWarning: The binary mode of fromstring is deprecated, as it behaves surprisingly on unicode inputs. Use frombuffer instead\n",
      "  etmode = np.fromstring(etmode, UINT8).tolist()[0]\n",
      "c:\\Users\\Mohamad Abo Bakr\\AppData\\Local\\Programs\\Python\\Python39\\lib\\contextlib.py:124: RuntimeWarning: Channel names are not unique, found duplicates for: {'EEG'}. Applying running numbers for duplicates.\n",
      "  next(self.gen)\n"
     ]
    },
    {
     "name": "stdout",
     "output_type": "stream",
     "text": [
      "Used Annotations descriptions: ['1023', '1072', '276', '277', '32766', '768', '769', '770', '771', '772']\n",
      "Extracting EDF parameters from d:\\Study\\GP\\EEG-Motor-Imagery-classifier\\data\\A03T.gdf...\n",
      "GDF file detected\n",
      "Setting channel info structure...\n",
      "Could not determine channel type of the following channels, they will be set as EEG:\n",
      "EEG-Fz, EEG, EEG, EEG, EEG, EEG, EEG, EEG-C3, EEG, EEG-Cz, EEG, EEG-C4, EEG, EEG, EEG, EEG, EEG, EEG, EEG, EEG-Pz, EEG, EEG, EOG-left, EOG-central, EOG-right\n",
      "Creating raw.info structure...\n"
     ]
    },
    {
     "name": "stderr",
     "output_type": "stream",
     "text": [
      "c:\\Users\\Mohamad Abo Bakr\\AppData\\Local\\Programs\\Python\\Python39\\lib\\site-packages\\mne\\io\\edf\\edf.py:1123: DeprecationWarning: The binary mode of fromstring is deprecated, as it behaves surprisingly on unicode inputs. Use frombuffer instead\n",
      "  etmode = np.fromstring(etmode, UINT8).tolist()[0]\n",
      "c:\\Users\\Mohamad Abo Bakr\\AppData\\Local\\Programs\\Python\\Python39\\lib\\contextlib.py:124: RuntimeWarning: Channel names are not unique, found duplicates for: {'EEG'}. Applying running numbers for duplicates.\n",
      "  next(self.gen)\n"
     ]
    },
    {
     "name": "stdout",
     "output_type": "stream",
     "text": [
      "Used Annotations descriptions: ['1023', '1072', '276', '277', '32766', '768', '769', '770', '771', '772']\n",
      "Extracting EDF parameters from d:\\Study\\GP\\EEG-Motor-Imagery-classifier\\data\\A04T.gdf...\n",
      "GDF file detected\n",
      "Setting channel info structure...\n",
      "Could not determine channel type of the following channels, they will be set as EEG:\n",
      "EEG-Fz, EEG, EEG, EEG, EEG, EEG, EEG, EEG-C3, EEG, EEG-Cz, EEG, EEG-C4, EEG, EEG, EEG, EEG, EEG, EEG, EEG, EEG-Pz, EEG, EEG, EOG-left, EOG-central, EOG-right\n",
      "Creating raw.info structure...\n"
     ]
    },
    {
     "name": "stderr",
     "output_type": "stream",
     "text": [
      "c:\\Users\\Mohamad Abo Bakr\\AppData\\Local\\Programs\\Python\\Python39\\lib\\site-packages\\mne\\io\\edf\\edf.py:1123: DeprecationWarning: The binary mode of fromstring is deprecated, as it behaves surprisingly on unicode inputs. Use frombuffer instead\n",
      "  etmode = np.fromstring(etmode, UINT8).tolist()[0]\n",
      "c:\\Users\\Mohamad Abo Bakr\\AppData\\Local\\Programs\\Python\\Python39\\lib\\contextlib.py:124: RuntimeWarning: Channel names are not unique, found duplicates for: {'EEG'}. Applying running numbers for duplicates.\n",
      "  next(self.gen)\n"
     ]
    },
    {
     "name": "stdout",
     "output_type": "stream",
     "text": [
      "Used Annotations descriptions: ['1023', '1072', '32766', '768', '769', '770', '771', '772']\n",
      "Extracting EDF parameters from d:\\Study\\GP\\EEG-Motor-Imagery-classifier\\data\\A05T.gdf...\n",
      "GDF file detected\n",
      "Setting channel info structure...\n",
      "Could not determine channel type of the following channels, they will be set as EEG:\n",
      "EEG-Fz, EEG, EEG, EEG, EEG, EEG, EEG, EEG-C3, EEG, EEG-Cz, EEG, EEG-C4, EEG, EEG, EEG, EEG, EEG, EEG, EEG, EEG-Pz, EEG, EEG, EOG-left, EOG-central, EOG-right\n",
      "Creating raw.info structure...\n"
     ]
    },
    {
     "name": "stderr",
     "output_type": "stream",
     "text": [
      "c:\\Users\\Mohamad Abo Bakr\\AppData\\Local\\Programs\\Python\\Python39\\lib\\site-packages\\mne\\io\\edf\\edf.py:1123: DeprecationWarning: The binary mode of fromstring is deprecated, as it behaves surprisingly on unicode inputs. Use frombuffer instead\n",
      "  etmode = np.fromstring(etmode, UINT8).tolist()[0]\n",
      "c:\\Users\\Mohamad Abo Bakr\\AppData\\Local\\Programs\\Python\\Python39\\lib\\contextlib.py:124: RuntimeWarning: Channel names are not unique, found duplicates for: {'EEG'}. Applying running numbers for duplicates.\n",
      "  next(self.gen)\n"
     ]
    },
    {
     "name": "stdout",
     "output_type": "stream",
     "text": [
      "Used Annotations descriptions: ['1023', '1072', '276', '277', '32766', '768', '769', '770', '771', '772']\n",
      "Extracting EDF parameters from d:\\Study\\GP\\EEG-Motor-Imagery-classifier\\data\\A06T.gdf...\n",
      "GDF file detected\n",
      "Setting channel info structure...\n",
      "Could not determine channel type of the following channels, they will be set as EEG:\n",
      "EEG-Fz, EEG, EEG, EEG, EEG, EEG, EEG, EEG-C3, EEG, EEG-Cz, EEG, EEG-C4, EEG, EEG, EEG, EEG, EEG, EEG, EEG, EEG-Pz, EEG, EEG, EOG-left, EOG-central, EOG-right\n",
      "Creating raw.info structure...\n"
     ]
    },
    {
     "name": "stderr",
     "output_type": "stream",
     "text": [
      "c:\\Users\\Mohamad Abo Bakr\\AppData\\Local\\Programs\\Python\\Python39\\lib\\site-packages\\mne\\io\\edf\\edf.py:1123: DeprecationWarning: The binary mode of fromstring is deprecated, as it behaves surprisingly on unicode inputs. Use frombuffer instead\n",
      "  etmode = np.fromstring(etmode, UINT8).tolist()[0]\n",
      "c:\\Users\\Mohamad Abo Bakr\\AppData\\Local\\Programs\\Python\\Python39\\lib\\contextlib.py:124: RuntimeWarning: Channel names are not unique, found duplicates for: {'EEG'}. Applying running numbers for duplicates.\n",
      "  next(self.gen)\n"
     ]
    },
    {
     "name": "stdout",
     "output_type": "stream",
     "text": [
      "Used Annotations descriptions: ['1023', '1072', '276', '277', '32766', '768', '769', '770', '771', '772']\n",
      "Extracting EDF parameters from d:\\Study\\GP\\EEG-Motor-Imagery-classifier\\data\\A07T.gdf...\n",
      "GDF file detected\n",
      "Setting channel info structure...\n",
      "Could not determine channel type of the following channels, they will be set as EEG:\n",
      "EEG-Fz, EEG, EEG, EEG, EEG, EEG, EEG, EEG-C3, EEG, EEG-Cz, EEG, EEG-C4, EEG, EEG, EEG, EEG, EEG, EEG, EEG, EEG-Pz, EEG, EEG, EOG-left, EOG-central, EOG-right\n",
      "Creating raw.info structure...\n"
     ]
    },
    {
     "name": "stderr",
     "output_type": "stream",
     "text": [
      "c:\\Users\\Mohamad Abo Bakr\\AppData\\Local\\Programs\\Python\\Python39\\lib\\site-packages\\mne\\io\\edf\\edf.py:1123: DeprecationWarning: The binary mode of fromstring is deprecated, as it behaves surprisingly on unicode inputs. Use frombuffer instead\n",
      "  etmode = np.fromstring(etmode, UINT8).tolist()[0]\n",
      "c:\\Users\\Mohamad Abo Bakr\\AppData\\Local\\Programs\\Python\\Python39\\lib\\contextlib.py:124: RuntimeWarning: Channel names are not unique, found duplicates for: {'EEG'}. Applying running numbers for duplicates.\n",
      "  next(self.gen)\n"
     ]
    },
    {
     "name": "stdout",
     "output_type": "stream",
     "text": [
      "Used Annotations descriptions: ['1023', '1072', '276', '277', '32766', '768', '769', '770', '771', '772']\n",
      "Extracting EDF parameters from d:\\Study\\GP\\EEG-Motor-Imagery-classifier\\data\\A08T.gdf...\n",
      "GDF file detected\n",
      "Setting channel info structure...\n",
      "Could not determine channel type of the following channels, they will be set as EEG:\n",
      "EEG-Fz, EEG, EEG, EEG, EEG, EEG, EEG, EEG-C3, EEG, EEG-Cz, EEG, EEG-C4, EEG, EEG, EEG, EEG, EEG, EEG, EEG, EEG-Pz, EEG, EEG, EOG-left, EOG-central, EOG-right\n",
      "Creating raw.info structure...\n"
     ]
    },
    {
     "name": "stderr",
     "output_type": "stream",
     "text": [
      "c:\\Users\\Mohamad Abo Bakr\\AppData\\Local\\Programs\\Python\\Python39\\lib\\site-packages\\mne\\io\\edf\\edf.py:1123: DeprecationWarning: The binary mode of fromstring is deprecated, as it behaves surprisingly on unicode inputs. Use frombuffer instead\n",
      "  etmode = np.fromstring(etmode, UINT8).tolist()[0]\n",
      "c:\\Users\\Mohamad Abo Bakr\\AppData\\Local\\Programs\\Python\\Python39\\lib\\contextlib.py:124: RuntimeWarning: Channel names are not unique, found duplicates for: {'EEG'}. Applying running numbers for duplicates.\n",
      "  next(self.gen)\n"
     ]
    },
    {
     "name": "stdout",
     "output_type": "stream",
     "text": [
      "Used Annotations descriptions: ['1023', '1072', '276', '277', '32766', '768', '769', '770', '771', '772']\n",
      "Extracting EDF parameters from d:\\Study\\GP\\EEG-Motor-Imagery-classifier\\data\\A09T.gdf...\n",
      "GDF file detected\n",
      "Setting channel info structure...\n",
      "Could not determine channel type of the following channels, they will be set as EEG:\n",
      "EEG-Fz, EEG, EEG, EEG, EEG, EEG, EEG, EEG-C3, EEG, EEG-Cz, EEG, EEG-C4, EEG, EEG, EEG, EEG, EEG, EEG, EEG, EEG-Pz, EEG, EEG, EOG-left, EOG-central, EOG-right\n",
      "Creating raw.info structure...\n"
     ]
    },
    {
     "name": "stderr",
     "output_type": "stream",
     "text": [
      "c:\\Users\\Mohamad Abo Bakr\\AppData\\Local\\Programs\\Python\\Python39\\lib\\site-packages\\mne\\io\\edf\\edf.py:1123: DeprecationWarning: The binary mode of fromstring is deprecated, as it behaves surprisingly on unicode inputs. Use frombuffer instead\n",
      "  etmode = np.fromstring(etmode, UINT8).tolist()[0]\n",
      "c:\\Users\\Mohamad Abo Bakr\\AppData\\Local\\Programs\\Python\\Python39\\lib\\contextlib.py:124: RuntimeWarning: Channel names are not unique, found duplicates for: {'EEG'}. Applying running numbers for duplicates.\n",
      "  next(self.gen)\n"
     ]
    },
    {
     "name": "stdout",
     "output_type": "stream",
     "text": [
      "Used Annotations descriptions: ['1023', '1072', '276', '277', '32766', '768', '769', '770', '771', '772']\n"
     ]
    }
   ],
   "source": [
    "convert_data()"
   ]
  },
  {
   "cell_type": "markdown",
   "metadata": {},
   "source": [
    "# Read and split the data"
   ]
  },
  {
   "cell_type": "code",
   "execution_count": 89,
   "metadata": {},
   "outputs": [
    {
     "name": "stdout",
     "output_type": "stream",
     "text": [
      "final shapes are:  (230, 25, 313) (58, 25, 313) (230,) (58,)\n"
     ]
    }
   ],
   "source": [
    "i = 1\n",
    "\n",
    "x, y = read_file(i)\n",
    "\n",
    "X_train, X_test, y_train, y_test = train_test_split(x, y, random_state = 100, test_size = 0.2)\n",
    "\n",
    "print(\"final shapes are: \", X_train.shape, X_test.shape, y_train.shape, y_test.shape)\n",
    "\n"
   ]
  },
  {
   "cell_type": "code",
   "execution_count": 90,
   "metadata": {},
   "outputs": [
    {
     "name": "stdout",
     "output_type": "stream",
     "text": [
      "Computing rank from data with rank=None\n",
      "    Using tolerance 58 (2.2e-16 eps * 25 dim * 1e+16  max singular value)\n",
      "    Estimated rank (mag): 25\n",
      "    MAG: rank 25 computed from 25 data channels with 0 projectors\n",
      "Reducing data rank from 25 -> 25\n",
      "Estimating covariance using EMPIRICAL\n",
      "Done.\n",
      "Computing rank from data with rank=None\n",
      "    Using tolerance 47 (2.2e-16 eps * 25 dim * 8.5e+15  max singular value)\n",
      "    Estimated rank (mag): 25\n",
      "    MAG: rank 25 computed from 25 data channels with 0 projectors\n",
      "Reducing data rank from 25 -> 25\n",
      "Estimating covariance using EMPIRICAL\n",
      "Done.\n",
      "Computing rank from data with rank=None\n",
      "    Using tolerance 53 (2.2e-16 eps * 25 dim * 9.6e+15  max singular value)\n",
      "    Estimated rank (mag): 25\n",
      "    MAG: rank 25 computed from 25 data channels with 0 projectors\n",
      "Reducing data rank from 25 -> 25\n",
      "Estimating covariance using EMPIRICAL\n",
      "Done.\n",
      "Computing rank from data with rank=None\n",
      "    Using tolerance 48 (2.2e-16 eps * 25 dim * 8.7e+15  max singular value)\n",
      "    Estimated rank (mag): 25\n",
      "    MAG: rank 25 computed from 25 data channels with 0 projectors\n",
      "Reducing data rank from 25 -> 25\n",
      "Estimating covariance using EMPIRICAL\n",
      "Done.\n"
     ]
    },
    {
     "name": "stderr",
     "output_type": "stream",
     "text": [
      "c:\\Users\\Mohamad Abo Bakr\\AppData\\Local\\Programs\\Python\\Python39\\lib\\site-packages\\pywt\\_multilevel.py:43: UserWarning: Level value of 7 is too high: all coefficients will experience boundary effects.\n",
      "  warnings.warn(\n"
     ]
    },
    {
     "name": "stdout",
     "output_type": "stream",
     "text": [
      "Computing rank from data with rank=None\n",
      "    Using tolerance 25 (2.2e-16 eps * 25 dim * 4.6e+15  max singular value)\n",
      "    Estimated rank (mag): 25\n",
      "    MAG: rank 25 computed from 25 data channels with 0 projectors\n",
      "Reducing data rank from 25 -> 25\n",
      "Estimating covariance using EMPIRICAL\n",
      "Done.\n",
      "Computing rank from data with rank=None\n",
      "    Using tolerance 23 (2.2e-16 eps * 25 dim * 4.2e+15  max singular value)\n",
      "    Estimated rank (mag): 25\n",
      "    MAG: rank 25 computed from 25 data channels with 0 projectors\n",
      "Reducing data rank from 25 -> 25\n",
      "Estimating covariance using EMPIRICAL\n",
      "Done.\n",
      "Computing rank from data with rank=None\n",
      "    Using tolerance 24 (2.2e-16 eps * 25 dim * 4.3e+15  max singular value)\n",
      "    Estimated rank (mag): 25\n",
      "    MAG: rank 25 computed from 25 data channels with 0 projectors\n",
      "Reducing data rank from 25 -> 25\n",
      "Estimating covariance using EMPIRICAL\n",
      "Done.\n",
      "Computing rank from data with rank=None\n",
      "    Using tolerance 25 (2.2e-16 eps * 25 dim * 4.6e+15  max singular value)\n",
      "    Estimated rank (mag): 25\n",
      "    MAG: rank 25 computed from 25 data channels with 0 projectors\n",
      "Reducing data rank from 25 -> 25\n",
      "Estimating covariance using EMPIRICAL\n",
      "Done.\n",
      "Computing rank from data with rank=None\n",
      "    Using tolerance 15 (2.2e-16 eps * 25 dim * 2.7e+15  max singular value)\n",
      "    Estimated rank (mag): 25\n",
      "    MAG: rank 25 computed from 25 data channels with 0 projectors\n",
      "Reducing data rank from 25 -> 25\n",
      "Estimating covariance using EMPIRICAL\n",
      "Done.\n",
      "Computing rank from data with rank=None\n",
      "    Using tolerance 15 (2.2e-16 eps * 25 dim * 2.8e+15  max singular value)\n",
      "    Estimated rank (mag): 25\n",
      "    MAG: rank 25 computed from 25 data channels with 0 projectors\n",
      "Reducing data rank from 25 -> 25\n",
      "Estimating covariance using EMPIRICAL\n",
      "Done.\n",
      "Computing rank from data with rank=None\n",
      "    Using tolerance 16 (2.2e-16 eps * 25 dim * 2.8e+15  max singular value)\n",
      "    Estimated rank (mag): 25\n",
      "    MAG: rank 25 computed from 25 data channels with 0 projectors\n",
      "Reducing data rank from 25 -> 25\n",
      "Estimating covariance using EMPIRICAL\n",
      "Done.\n",
      "Computing rank from data with rank=None\n",
      "    Using tolerance 15 (2.2e-16 eps * 25 dim * 2.7e+15  max singular value)\n",
      "    Estimated rank (mag): 25\n",
      "    MAG: rank 25 computed from 25 data channels with 0 projectors\n",
      "Reducing data rank from 25 -> 25\n",
      "Estimating covariance using EMPIRICAL\n",
      "Done.\n",
      "Computing rank from data with rank=None\n",
      "    Using tolerance 14 (2.2e-16 eps * 25 dim * 2.5e+15  max singular value)\n",
      "    Estimated rank (mag): 25\n",
      "    MAG: rank 25 computed from 25 data channels with 0 projectors\n",
      "Reducing data rank from 25 -> 25\n",
      "Estimating covariance using EMPIRICAL\n",
      "Done.\n",
      "Computing rank from data with rank=None\n",
      "    Using tolerance 13 (2.2e-16 eps * 25 dim * 2.3e+15  max singular value)\n",
      "    Estimated rank (mag): 25\n",
      "    MAG: rank 25 computed from 25 data channels with 0 projectors\n",
      "Reducing data rank from 25 -> 25\n",
      "Estimating covariance using EMPIRICAL\n",
      "Done.\n",
      "Computing rank from data with rank=None\n",
      "    Using tolerance 12 (2.2e-16 eps * 25 dim * 2.2e+15  max singular value)\n",
      "    Estimated rank (mag): 25\n",
      "    MAG: rank 25 computed from 25 data channels with 0 projectors\n",
      "Reducing data rank from 25 -> 25\n",
      "Estimating covariance using EMPIRICAL\n",
      "Done.\n",
      "Computing rank from data with rank=None\n",
      "    Using tolerance 13 (2.2e-16 eps * 25 dim * 2.4e+15  max singular value)\n",
      "    Estimated rank (mag): 25\n",
      "    MAG: rank 25 computed from 25 data channels with 0 projectors\n",
      "Reducing data rank from 25 -> 25\n",
      "Estimating covariance using EMPIRICAL\n",
      "Done.\n",
      "Computing rank from data with rank=None\n",
      "    Using tolerance 13 (2.2e-16 eps * 25 dim * 2.3e+15  max singular value)\n",
      "    Estimated rank (mag): 25\n",
      "    MAG: rank 25 computed from 25 data channels with 0 projectors\n",
      "Reducing data rank from 25 -> 25\n",
      "Estimating covariance using EMPIRICAL\n",
      "Done.\n",
      "Computing rank from data with rank=None\n",
      "    Using tolerance 13 (2.2e-16 eps * 25 dim * 2.3e+15  max singular value)\n",
      "    Estimated rank (mag): 25\n",
      "    MAG: rank 25 computed from 25 data channels with 0 projectors\n",
      "Reducing data rank from 25 -> 25\n",
      "Estimating covariance using EMPIRICAL\n",
      "Done.\n",
      "Computing rank from data with rank=None\n",
      "    Using tolerance 13 (2.2e-16 eps * 25 dim * 2.3e+15  max singular value)\n",
      "    Estimated rank (mag): 25\n",
      "    MAG: rank 25 computed from 25 data channels with 0 projectors\n",
      "Reducing data rank from 25 -> 25\n",
      "Estimating covariance using EMPIRICAL\n",
      "Done.\n",
      "Computing rank from data with rank=None\n",
      "    Using tolerance 13 (2.2e-16 eps * 25 dim * 2.3e+15  max singular value)\n",
      "    Estimated rank (mag): 25\n",
      "    MAG: rank 25 computed from 25 data channels with 0 projectors\n",
      "Reducing data rank from 25 -> 25\n",
      "Estimating covariance using EMPIRICAL\n",
      "Done.\n",
      "Computing rank from data with rank=None\n",
      "    Using tolerance 11 (2.2e-16 eps * 25 dim * 1.9e+15  max singular value)\n",
      "    Estimated rank (mag): 25\n",
      "    MAG: rank 25 computed from 25 data channels with 0 projectors\n",
      "Reducing data rank from 25 -> 25\n",
      "Estimating covariance using EMPIRICAL\n",
      "Done.\n",
      "Computing rank from data with rank=None\n",
      "    Using tolerance 10 (2.2e-16 eps * 25 dim * 1.8e+15  max singular value)\n",
      "    Estimated rank (mag): 25\n",
      "    MAG: rank 25 computed from 25 data channels with 0 projectors\n",
      "Reducing data rank from 25 -> 25\n",
      "Estimating covariance using EMPIRICAL\n",
      "Done.\n",
      "Computing rank from data with rank=None\n",
      "    Using tolerance 10 (2.2e-16 eps * 25 dim * 1.8e+15  max singular value)\n",
      "    Estimated rank (mag): 25\n",
      "    MAG: rank 25 computed from 25 data channels with 0 projectors\n",
      "Reducing data rank from 25 -> 25\n",
      "Estimating covariance using EMPIRICAL\n",
      "Done.\n",
      "Computing rank from data with rank=None\n",
      "    Using tolerance 11 (2.2e-16 eps * 25 dim * 1.9e+15  max singular value)\n",
      "    Estimated rank (mag): 25\n",
      "    MAG: rank 25 computed from 25 data channels with 0 projectors\n",
      "Reducing data rank from 25 -> 25\n",
      "Estimating covariance using EMPIRICAL\n",
      "Done.\n",
      "Computing rank from data with rank=None\n",
      "    Using tolerance 6.9 (2.2e-16 eps * 25 dim * 1.2e+15  max singular value)\n",
      "    Estimated rank (mag): 25\n",
      "    MAG: rank 25 computed from 25 data channels with 0 projectors\n",
      "Reducing data rank from 25 -> 25\n",
      "Estimating covariance using EMPIRICAL\n",
      "Done.\n",
      "Computing rank from data with rank=None\n",
      "    Using tolerance 6.7 (2.2e-16 eps * 25 dim * 1.2e+15  max singular value)\n",
      "    Estimated rank (mag): 25\n",
      "    MAG: rank 25 computed from 25 data channels with 0 projectors\n",
      "Reducing data rank from 25 -> 25\n",
      "Estimating covariance using EMPIRICAL\n",
      "Done.\n",
      "Computing rank from data with rank=None\n",
      "    Using tolerance 6.9 (2.2e-16 eps * 25 dim * 1.2e+15  max singular value)\n",
      "    Estimated rank (mag): 25\n",
      "    MAG: rank 25 computed from 25 data channels with 0 projectors\n",
      "Reducing data rank from 25 -> 25\n",
      "Estimating covariance using EMPIRICAL\n",
      "Done.\n",
      "Computing rank from data with rank=None\n",
      "    Using tolerance 6.8 (2.2e-16 eps * 25 dim * 1.2e+15  max singular value)\n",
      "    Estimated rank (mag): 25\n",
      "    MAG: rank 25 computed from 25 data channels with 0 projectors\n",
      "Reducing data rank from 25 -> 25\n",
      "Estimating covariance using EMPIRICAL\n",
      "Done.\n",
      "Computing rank from data with rank=None\n",
      "    Using tolerance 8 (2.2e-16 eps * 25 dim * 1.4e+15  max singular value)\n",
      "    Estimated rank (mag): 25\n",
      "    MAG: rank 25 computed from 25 data channels with 0 projectors\n",
      "Reducing data rank from 25 -> 25\n",
      "Estimating covariance using EMPIRICAL\n",
      "Done.\n",
      "Computing rank from data with rank=None\n",
      "    Using tolerance 7.7 (2.2e-16 eps * 25 dim * 1.4e+15  max singular value)\n",
      "    Estimated rank (mag): 25\n",
      "    MAG: rank 25 computed from 25 data channels with 0 projectors\n",
      "Reducing data rank from 25 -> 25\n",
      "Estimating covariance using EMPIRICAL\n",
      "Done.\n",
      "Computing rank from data with rank=None\n",
      "    Using tolerance 7.6 (2.2e-16 eps * 25 dim * 1.4e+15  max singular value)\n",
      "    Estimated rank (mag): 25\n",
      "    MAG: rank 25 computed from 25 data channels with 0 projectors\n",
      "Reducing data rank from 25 -> 25\n",
      "Estimating covariance using EMPIRICAL\n",
      "Done.\n",
      "Computing rank from data with rank=None\n",
      "    Using tolerance 7.9 (2.2e-16 eps * 25 dim * 1.4e+15  max singular value)\n",
      "    Estimated rank (mag): 25\n",
      "    MAG: rank 25 computed from 25 data channels with 0 projectors\n",
      "Reducing data rank from 25 -> 25\n",
      "Estimating covariance using EMPIRICAL\n",
      "Done.\n"
     ]
    }
   ],
   "source": [
    "train_coeff = featurize(X_train)\n",
    "coeff_len = len(train_coeff)\n",
    "\n",
    "csp = [mne.decoding.CSP(8) for _ in range(coeff_len)]\n",
    "X_train = np.concatenate(tuple(csp[x].fit_transform(train_coeff[x][:,:,:], y_train) for x  in range(coeff_len)),axis=-1)\n",
    "\n",
    "test_coeff = featurize(X_test)\n",
    "X_test = np.concatenate(tuple(csp[x].transform(test_coeff[x][:,:,:]) for x  in range(coeff_len)),axis=-1)\n"
   ]
  },
  {
   "cell_type": "code",
   "execution_count": 91,
   "metadata": {},
   "outputs": [
    {
     "name": "stdout",
     "output_type": "stream",
     "text": [
      "Accuracy is  0.991304347826087\n",
      "230\n",
      "test Accuracy is  0.6551724137931034\n",
      "58\n",
      "kappa score on train is:  0.988402289287245\n",
      "kappa score on test is:  0.5309340881520421\n"
     ]
    }
   ],
   "source": [
    "\n",
    "\n",
    "clf = pipeline.make_pipeline(StandardScaler(), svm.SVC())\n",
    "# clf = OneVsRestClassifier(svm.SVC())\n",
    "# clf = OneVsRestClassifier(clf)\n",
    "clf.fit(X_train, y_train)\n",
    "\n",
    "print(\"Accuracy is \", sum(clf.predict(X_train) == y_train) / len(X_train))\n",
    "print(len(X_train))\n",
    "\n",
    "print(\"test Accuracy is \", sum(clf.predict(X_test) == y_test) / len(X_test))\n",
    "print(len(X_test))\n",
    "\n",
    "print(\"kappa score on train is: \", cohen_kappa_score(clf.predict(X_train), y_train))\n",
    "print(\"kappa score on test is: \", cohen_kappa_score(clf.predict(X_test), y_test))\n"
   ]
  },
  {
   "cell_type": "code",
   "execution_count": 92,
   "metadata": {},
   "outputs": [],
   "source": [
    "# c = pywt.WaveletPacket(x[0,0,:], 'db4', mode='symmetric', maxlevel=5)\n",
    "\n",
    "# for node in c.get_level(5, 'natural'):\n",
    "#   print(node.)\n",
    "\n"
   ]
  }
 ],
 "metadata": {
  "interpreter": {
   "hash": "e5356a0cc24ab421f3fea7505d1e0be20cb885e675eb5d16ff02cf791c65a604"
  },
  "kernelspec": {
   "display_name": "Python 3.9.1 64-bit",
   "language": "python",
   "name": "python3"
  },
  "language_info": {
   "codemirror_mode": {
    "name": "ipython",
    "version": 3
   },
   "file_extension": ".py",
   "mimetype": "text/x-python",
   "name": "python",
   "nbconvert_exporter": "python",
   "pygments_lexer": "ipython3",
   "version": "3.9.1"
  },
  "orig_nbformat": 4
 },
 "nbformat": 4,
 "nbformat_minor": 2
}
