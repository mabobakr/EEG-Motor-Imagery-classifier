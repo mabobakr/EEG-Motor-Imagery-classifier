{
 "cells": [
  {
   "cell_type": "code",
   "execution_count": 31,
   "metadata": {},
   "outputs": [
    {
     "name": "stdout",
     "output_type": "stream",
     "text": [
      "The autoreload extension is already loaded. To reload it, use:\n",
      "  %reload_ext autoreload\n"
     ]
    }
   ],
   "source": [
    "from preprocessing import * \n",
    "from sklearn import svm\n",
    "from sklearn import pipeline\n",
    "from sklearn.preprocessing import StandardScaler\n",
    "from sklearn.discriminant_analysis import QuadraticDiscriminantAnalysis\n",
    "from scipy import stats\n",
    "import matplotlib.pyplot as plt\n",
    "from sklearn.metrics import cohen_kappa_score\n",
    "from sklearn.neighbors import KNeighborsClassifier\n",
    "from sklearn.model_selection import RandomizedSearchCV\n",
    "from sklearn.model_selection import GridSearchCV\n",
    "from joblib import dump, load\n",
    "\n",
    "from sklearn.multiclass import OneVsRestClassifier\n",
    "\n",
    "%load_ext autoreload\n",
    "%autoreload 2"
   ]
  },
  {
   "cell_type": "markdown",
   "metadata": {},
   "source": [
    "# Extract data samples from raw GDF files"
   ]
  },
  {
   "cell_type": "code",
   "execution_count": 32,
   "metadata": {},
   "outputs": [],
   "source": [
    "# convert_data()"
   ]
  },
  {
   "cell_type": "markdown",
   "metadata": {},
   "source": [
    "# Read and split the data"
   ]
  },
  {
   "cell_type": "code",
   "execution_count": 40,
   "metadata": {},
   "outputs": [
    {
     "name": "stdout",
     "output_type": "stream",
     "text": [
      "final shapes are:  (230, 25, 313) (58, 25, 313) (230,) (58,)\n"
     ]
    }
   ],
   "source": [
    "i = 8\n",
    "\n",
    "x, y = read_file(i)\n",
    "\n",
    "X_train, X_test, y_train, y_test = train_test_split(x, y, random_state = 100, test_size = 0.2)\n",
    "\n",
    "print(\"final shapes are: \", X_train.shape, X_test.shape, y_train.shape, y_test.shape)\n",
    "\n"
   ]
  },
  {
   "cell_type": "markdown",
   "metadata": {},
   "source": [
    "# Extract features from test and train data"
   ]
  },
  {
   "cell_type": "code",
   "execution_count": 41,
   "metadata": {},
   "outputs": [
    {
     "name": "stdout",
     "output_type": "stream",
     "text": [
      "Computing rank from data with rank=None\n",
      "    Using tolerance 59 (2.2e-16 eps * 25 dim * 1.1e+16  max singular value)\n",
      "    Estimated rank (mag): 25\n",
      "    MAG: rank 25 computed from 25 data channels with 0 projectors\n",
      "Reducing data rank from 25 -> 25\n",
      "Estimating covariance using EMPIRICAL\n",
      "Done.\n",
      "Computing rank from data with rank=None\n",
      "    Using tolerance 55 (2.2e-16 eps * 25 dim * 9.9e+15  max singular value)\n",
      "    Estimated rank (mag): 25\n",
      "    MAG: rank 25 computed from 25 data channels with 0 projectors\n",
      "Reducing data rank from 25 -> 25\n",
      "Estimating covariance using EMPIRICAL\n",
      "Done.\n",
      "Computing rank from data with rank=None\n",
      "    Using tolerance 62 (2.2e-16 eps * 25 dim * 1.1e+16  max singular value)\n",
      "    Estimated rank (mag): 25\n",
      "    MAG: rank 25 computed from 25 data channels with 0 projectors\n",
      "Reducing data rank from 25 -> 25\n",
      "Estimating covariance using EMPIRICAL\n",
      "Done.\n",
      "Computing rank from data with rank=None\n",
      "    Using tolerance 50 (2.2e-16 eps * 25 dim * 9.1e+15  max singular value)\n",
      "    Estimated rank (mag): 25\n",
      "    MAG: rank 25 computed from 25 data channels with 0 projectors\n",
      "Reducing data rank from 25 -> 25\n",
      "Estimating covariance using EMPIRICAL\n",
      "Done.\n",
      "Computing rank from data with rank=None\n",
      "    Using tolerance 26 (2.2e-16 eps * 25 dim * 4.7e+15  max singular value)\n",
      "    Estimated rank (mag): 25\n",
      "    MAG: rank 25 computed from 25 data channels with 0 projectors\n",
      "Reducing data rank from 25 -> 25\n",
      "Estimating covariance using EMPIRICAL\n",
      "Done.\n",
      "Computing rank from data with rank=None\n",
      "    Using tolerance 24 (2.2e-16 eps * 25 dim * 4.3e+15  max singular value)\n",
      "    Estimated rank (mag): 25\n",
      "    MAG: rank 25 computed from 25 data channels with 0 projectors\n",
      "Reducing data rank from 25 -> 25\n",
      "Estimating covariance using EMPIRICAL\n",
      "Done.\n",
      "Computing rank from data with rank=None\n",
      "    Using tolerance 38 (2.2e-16 eps * 25 dim * 6.8e+15  max singular value)\n",
      "    Estimated rank (mag): 25\n",
      "    MAG: rank 25 computed from 25 data channels with 0 projectors\n",
      "Reducing data rank from 25 -> 25\n",
      "Estimating covariance using EMPIRICAL\n",
      "Done.\n",
      "Computing rank from data with rank=None\n",
      "    Using tolerance 22 (2.2e-16 eps * 25 dim * 4e+15  max singular value)\n",
      "    Estimated rank (mag): 25\n",
      "    MAG: rank 25 computed from 25 data channels with 0 projectors\n",
      "Reducing data rank from 25 -> 25\n",
      "Estimating covariance using EMPIRICAL\n",
      "Done.\n",
      "Computing rank from data with rank=None\n",
      "    Using tolerance 15 (2.2e-16 eps * 25 dim * 2.6e+15  max singular value)\n",
      "    Estimated rank (mag): 25\n",
      "    MAG: rank 25 computed from 25 data channels with 0 projectors\n",
      "Reducing data rank from 25 -> 25\n",
      "Estimating covariance using EMPIRICAL\n",
      "Done.\n",
      "Computing rank from data with rank=None\n",
      "    Using tolerance 13 (2.2e-16 eps * 25 dim * 2.3e+15  max singular value)\n",
      "    Estimated rank (mag): 25\n",
      "    MAG: rank 25 computed from 25 data channels with 0 projectors\n",
      "Reducing data rank from 25 -> 25\n",
      "Estimating covariance using EMPIRICAL\n",
      "Done.\n",
      "Computing rank from data with rank=None\n",
      "    Using tolerance 21 (2.2e-16 eps * 25 dim * 3.7e+15  max singular value)\n",
      "    Estimated rank (mag): 25\n",
      "    MAG: rank 25 computed from 25 data channels with 0 projectors\n",
      "Reducing data rank from 25 -> 25\n",
      "Estimating covariance using EMPIRICAL\n",
      "Done.\n",
      "Computing rank from data with rank=None\n",
      "    Using tolerance 14 (2.2e-16 eps * 25 dim * 2.5e+15  max singular value)\n",
      "    Estimated rank (mag): 25\n",
      "    MAG: rank 25 computed from 25 data channels with 0 projectors\n",
      "Reducing data rank from 25 -> 25\n",
      "Estimating covariance using EMPIRICAL\n",
      "Done.\n",
      "Computing rank from data with rank=None\n",
      "    Using tolerance 16 (2.2e-16 eps * 25 dim * 2.8e+15  max singular value)\n",
      "    Estimated rank (mag): 25\n",
      "    MAG: rank 25 computed from 25 data channels with 0 projectors\n",
      "Reducing data rank from 25 -> 25\n",
      "Estimating covariance using EMPIRICAL\n",
      "Done.\n",
      "Computing rank from data with rank=None\n",
      "    Using tolerance 14 (2.2e-16 eps * 25 dim * 2.6e+15  max singular value)\n",
      "    Estimated rank (mag): 25\n",
      "    MAG: rank 25 computed from 25 data channels with 0 projectors\n",
      "Reducing data rank from 25 -> 25\n",
      "Estimating covariance using EMPIRICAL\n",
      "Done.\n",
      "Computing rank from data with rank=None\n",
      "    Using tolerance 16 (2.2e-16 eps * 25 dim * 2.9e+15  max singular value)\n",
      "    Estimated rank (mag): 25\n",
      "    MAG: rank 25 computed from 25 data channels with 0 projectors\n",
      "Reducing data rank from 25 -> 25\n",
      "Estimating covariance using EMPIRICAL\n",
      "Done.\n",
      "Computing rank from data with rank=None\n",
      "    Using tolerance 15 (2.2e-16 eps * 25 dim * 2.8e+15  max singular value)\n",
      "    Estimated rank (mag): 25\n",
      "    MAG: rank 25 computed from 25 data channels with 0 projectors\n",
      "Reducing data rank from 25 -> 25\n",
      "Estimating covariance using EMPIRICAL\n",
      "Done.\n",
      "Computing rank from data with rank=None\n",
      "    Using tolerance 24 (2.2e-16 eps * 25 dim * 4.3e+15  max singular value)\n",
      "    Estimated rank (mag): 25\n",
      "    MAG: rank 25 computed from 25 data channels with 0 projectors\n",
      "Reducing data rank from 25 -> 25\n",
      "Estimating covariance using EMPIRICAL\n",
      "Done.\n",
      "Computing rank from data with rank=None\n",
      "    Using tolerance 21 (2.2e-16 eps * 25 dim * 3.7e+15  max singular value)\n",
      "    Estimated rank (mag): 25\n",
      "    MAG: rank 25 computed from 25 data channels with 0 projectors\n",
      "Reducing data rank from 25 -> 25\n",
      "Estimating covariance using EMPIRICAL\n",
      "Done.\n",
      "Computing rank from data with rank=None\n",
      "    Using tolerance 22 (2.2e-16 eps * 25 dim * 4e+15  max singular value)\n",
      "    Estimated rank (mag): 25\n",
      "    MAG: rank 25 computed from 25 data channels with 0 projectors\n",
      "Reducing data rank from 25 -> 25\n",
      "Estimating covariance using EMPIRICAL\n",
      "Done.\n",
      "Computing rank from data with rank=None\n",
      "    Using tolerance 22 (2.2e-16 eps * 25 dim * 4e+15  max singular value)\n",
      "    Estimated rank (mag): 25\n",
      "    MAG: rank 25 computed from 25 data channels with 0 projectors\n",
      "Reducing data rank from 25 -> 25\n",
      "Estimating covariance using EMPIRICAL\n",
      "Done.\n",
      "Computing rank from data with rank=None\n",
      "    Using tolerance 19 (2.2e-16 eps * 25 dim * 3.4e+15  max singular value)\n",
      "    Estimated rank (mag): 25\n",
      "    MAG: rank 25 computed from 25 data channels with 0 projectors\n",
      "Reducing data rank from 25 -> 25\n",
      "Estimating covariance using EMPIRICAL\n",
      "Done.\n",
      "Computing rank from data with rank=None\n",
      "    Using tolerance 17 (2.2e-16 eps * 25 dim * 3.1e+15  max singular value)\n",
      "    Estimated rank (mag): 25\n",
      "    MAG: rank 25 computed from 25 data channels with 0 projectors\n",
      "Reducing data rank from 25 -> 25\n",
      "Estimating covariance using EMPIRICAL\n",
      "Done.\n",
      "Computing rank from data with rank=None\n",
      "    Using tolerance 19 (2.2e-16 eps * 25 dim * 3.4e+15  max singular value)\n",
      "    Estimated rank (mag): 25\n",
      "    MAG: rank 25 computed from 25 data channels with 0 projectors\n",
      "Reducing data rank from 25 -> 25\n",
      "Estimating covariance using EMPIRICAL\n",
      "Done.\n",
      "Computing rank from data with rank=None\n",
      "    Using tolerance 18 (2.2e-16 eps * 25 dim * 3.2e+15  max singular value)\n",
      "    Estimated rank (mag): 25\n",
      "    MAG: rank 25 computed from 25 data channels with 0 projectors\n",
      "Reducing data rank from 25 -> 25\n",
      "Estimating covariance using EMPIRICAL\n",
      "Done.\n",
      "Computing rank from data with rank=None\n",
      "    Using tolerance 13 (2.2e-16 eps * 25 dim * 2.3e+15  max singular value)\n",
      "    Estimated rank (mag): 25\n",
      "    MAG: rank 25 computed from 25 data channels with 0 projectors\n",
      "Reducing data rank from 25 -> 25\n",
      "Estimating covariance using EMPIRICAL\n",
      "Done.\n",
      "Computing rank from data with rank=None\n",
      "    Using tolerance 12 (2.2e-16 eps * 25 dim * 2.1e+15  max singular value)\n",
      "    Estimated rank (mag): 25\n",
      "    MAG: rank 25 computed from 25 data channels with 0 projectors\n",
      "Reducing data rank from 25 -> 25\n",
      "Estimating covariance using EMPIRICAL\n",
      "Done.\n",
      "Computing rank from data with rank=None\n",
      "    Using tolerance 12 (2.2e-16 eps * 25 dim * 2.2e+15  max singular value)\n",
      "    Estimated rank (mag): 25\n",
      "    MAG: rank 25 computed from 25 data channels with 0 projectors\n",
      "Reducing data rank from 25 -> 25\n",
      "Estimating covariance using EMPIRICAL\n",
      "Done.\n",
      "Computing rank from data with rank=None\n",
      "    Using tolerance 12 (2.2e-16 eps * 25 dim * 2.2e+15  max singular value)\n",
      "    Estimated rank (mag): 25\n",
      "    MAG: rank 25 computed from 25 data channels with 0 projectors\n",
      "Reducing data rank from 25 -> 25\n",
      "Estimating covariance using EMPIRICAL\n",
      "Done.\n",
      "Computing rank from data with rank=None\n",
      "    Using tolerance 14 (2.2e-16 eps * 25 dim * 2.5e+15  max singular value)\n",
      "    Estimated rank (mag): 25\n",
      "    MAG: rank 25 computed from 25 data channels with 0 projectors\n",
      "Reducing data rank from 25 -> 25\n",
      "Estimating covariance using EMPIRICAL\n",
      "Done.\n",
      "Computing rank from data with rank=None\n",
      "    Using tolerance 13 (2.2e-16 eps * 25 dim * 2.3e+15  max singular value)\n",
      "    Estimated rank (mag): 25\n",
      "    MAG: rank 25 computed from 25 data channels with 0 projectors\n",
      "Reducing data rank from 25 -> 25\n",
      "Estimating covariance using EMPIRICAL\n",
      "Done.\n",
      "Computing rank from data with rank=None\n",
      "    Using tolerance 14 (2.2e-16 eps * 25 dim * 2.5e+15  max singular value)\n",
      "    Estimated rank (mag): 25\n",
      "    MAG: rank 25 computed from 25 data channels with 0 projectors\n",
      "Reducing data rank from 25 -> 25\n",
      "Estimating covariance using EMPIRICAL\n",
      "Done.\n",
      "Computing rank from data with rank=None\n",
      "    Using tolerance 13 (2.2e-16 eps * 25 dim * 2.4e+15  max singular value)\n",
      "    Estimated rank (mag): 25\n",
      "    MAG: rank 25 computed from 25 data channels with 0 projectors\n",
      "Reducing data rank from 25 -> 25\n",
      "Estimating covariance using EMPIRICAL\n",
      "Done.\n"
     ]
    }
   ],
   "source": [
    "train_coeff = featurize(X_train)\n",
    "coeff_len = len(train_coeff)\n",
    "\n",
    "csp = [mne.decoding.CSP(8) for _ in range(coeff_len)]\n",
    "X_train_f = np.concatenate(tuple(csp[x].fit_transform(train_coeff[x], y_train) for x  in range(coeff_len)),axis=-1)\n",
    "\n",
    "test_coeff = featurize(X_test)\n",
    "X_test_f = np.concatenate(tuple(csp[x].transform(test_coeff[x]) for x  in range(coeff_len)),axis=-1)\n",
    "  "
   ]
  },
  {
   "cell_type": "markdown",
   "metadata": {},
   "source": [
    "# Train model and test"
   ]
  },
  {
   "cell_type": "code",
   "execution_count": 43,
   "metadata": {},
   "outputs": [
    {
     "name": "stdout",
     "output_type": "stream",
     "text": [
      "Accuracy is  0.9782608695652174\n",
      "230\n",
      "test Accuracy is  0.8275862068965517\n",
      "58\n",
      "kappa score on train is:  0.9709705919474947\n",
      "kappa score on test is:  0.7654670440760211\n"
     ]
    }
   ],
   "source": [
    "clf = pipeline.make_pipeline(StandardScaler(), svm.SVC())\n",
    "clf.fit(X_train_f, y_train)\n",
    "\n",
    "print(\"Accuracy is \", sum(clf.predict(X_train_f) == y_train) / len(X_train))\n",
    "print(len(X_train))\n",
    "\n",
    "print(\"test Accuracy is \", sum(clf.predict(X_test_f) == y_test) / len(X_test))\n",
    "print(len(X_test))\n",
    "\n",
    "print(\"kappa score on train is: \", cohen_kappa_score(clf.predict(X_train_f), y_train))\n",
    "print(\"kappa score on test is: \", cohen_kappa_score(clf.predict(X_test_f), y_test))\n"
   ]
  },
  {
   "cell_type": "markdown",
   "metadata": {},
   "source": [
    "# Save the trained model"
   ]
  },
  {
   "cell_type": "code",
   "execution_count": 44,
   "metadata": {},
   "outputs": [
    {
     "data": {
      "text/plain": [
       "['csp.joblib']"
      ]
     },
     "execution_count": 44,
     "metadata": {},
     "output_type": "execute_result"
    }
   ],
   "source": [
    "dump(clf, \"model.joblib\")\n",
    "dump(clf, \"csp.joblib\")"
   ]
  },
  {
   "cell_type": "code",
   "execution_count": null,
   "metadata": {},
   "outputs": [],
   "source": []
  }
 ],
 "metadata": {
  "interpreter": {
   "hash": "e5356a0cc24ab421f3fea7505d1e0be20cb885e675eb5d16ff02cf791c65a604"
  },
  "kernelspec": {
   "display_name": "Python 3.9.1 64-bit",
   "language": "python",
   "name": "python3"
  },
  "language_info": {
   "codemirror_mode": {
    "name": "ipython",
    "version": 3
   },
   "file_extension": ".py",
   "mimetype": "text/x-python",
   "name": "python",
   "nbconvert_exporter": "python",
   "pygments_lexer": "ipython3",
   "version": "3.9.1"
  },
  "orig_nbformat": 4
 },
 "nbformat": 4,
 "nbformat_minor": 2
}
