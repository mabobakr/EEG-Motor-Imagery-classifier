{
 "cells": [
  {
   "cell_type": "code",
   "execution_count": 15,
   "metadata": {},
   "outputs": [
    {
     "name": "stdout",
     "output_type": "stream",
     "text": [
      "The autoreload extension is already loaded. To reload it, use:\n",
      "  %reload_ext autoreload\n"
     ]
    }
   ],
   "source": [
    "from preprocessing import * \n",
    "from sklearn import svm\n",
    "from sklearn import pipeline\n",
    "from sklearn.preprocessing import StandardScaler\n",
    "from sklearn.metrics import cohen_kappa_score\n",
    "from joblib import dump, load\n",
    "\n",
    "%load_ext autoreload\n",
    "%autoreload 2"
   ]
  },
  {
   "cell_type": "markdown",
   "metadata": {},
   "source": [
    "# Extract data samples from raw GDF files"
   ]
  },
  {
   "cell_type": "code",
   "execution_count": 16,
   "metadata": {},
   "outputs": [],
   "source": [
    "%%capture\n",
    "# convert_data()\n"
   ]
  },
  {
   "cell_type": "markdown",
   "metadata": {},
   "source": [
    "# Read and split the data"
   ]
  },
  {
   "cell_type": "code",
   "execution_count": 17,
   "metadata": {},
   "outputs": [
    {
     "name": "stdout",
     "output_type": "stream",
     "text": [
      "final shapes are:  (230, 25, 750) (230,)\n",
      "final shapes are:  (58, 25, 750) (58,)\n"
     ]
    }
   ],
   "source": [
    "i = 7\n",
    "\n",
    "x_train, y_train = read_file(\"action_train\", f\"A0{i}\")\n",
    "x_test, y_test = read_file(\"action_test\", f\"A0{i}\")\n",
    "\n",
    "\n",
    "print(\"final shapes are: \", x_train.shape, y_train.shape)\n",
    "print(\"final shapes are: \", x_test.shape, y_test.shape)\n"
   ]
  },
  {
   "cell_type": "markdown",
   "metadata": {},
   "source": [
    "# Extract features from test and train data"
   ]
  },
  {
   "cell_type": "code",
   "execution_count": 18,
   "metadata": {},
   "outputs": [],
   "source": [
    "%%capture\n",
    "train_coeff = featurize(x_train)\n",
    "coeff_len = len(train_coeff)\n",
    "\n",
    "csp = [mne.decoding.CSP(8) for _ in range(coeff_len)]\n",
    "x_train_f = np.concatenate(tuple(csp[x].fit_transform(train_coeff[x], y_train) for x  in range(coeff_len)),axis=-1)\n",
    "\n",
    "test_coeff = featurize(x_test)\n",
    "x_test_f = np.concatenate(tuple(csp[x].transform(test_coeff[x]) for x  in range(coeff_len)),axis=-1)\n",
    "  "
   ]
  },
  {
   "cell_type": "markdown",
   "metadata": {},
   "source": [
    "# Train model and test"
   ]
  },
  {
   "cell_type": "code",
   "execution_count": 23,
   "metadata": {},
   "outputs": [
    {
     "name": "stdout",
     "output_type": "stream",
     "text": [
      "Accuracy is  1.0\n",
      "230\n",
      "test Accuracy is  0.9482758620689655\n",
      "58\n",
      "kappa score on train is:  1.0\n",
      "kappa score on test is:  0.9303721488595438\n"
     ]
    }
   ],
   "source": [
    "clf = pipeline.make_pipeline(StandardScaler(), svm.SVC())\n",
    "clf.fit(x_train_f, y_train)\n",
    "\n",
    "print(\"Accuracy is \", sum(clf.predict(x_train_f) == y_train) / len(x_train))\n",
    "print(len(x_train))\n",
    "\n",
    "print(\"test Accuracy is \", sum(clf.predict(x_test_f) == y_test) / len(x_test))\n",
    "print(len(x_test))\n",
    "\n",
    "print(\"kappa score on train is: \", cohen_kappa_score(clf.predict(x_train_f), y_train))\n",
    "print(\"kappa score on test is: \", cohen_kappa_score(clf.predict(x_test_f), y_test))\n"
   ]
  },
  {
   "cell_type": "markdown",
   "metadata": {},
   "source": [
    "# Save the trained model"
   ]
  },
  {
   "cell_type": "code",
   "execution_count": 24,
   "metadata": {},
   "outputs": [
    {
     "data": {
      "text/plain": [
       "['csp.joblib']"
      ]
     },
     "execution_count": 24,
     "metadata": {},
     "output_type": "execute_result"
    }
   ],
   "source": [
    "dump(clf, \"model.joblib\")\n",
    "dump(csp, \"csp.joblib\")"
   ]
  },
  {
   "cell_type": "code",
   "execution_count": 25,
   "metadata": {},
   "outputs": [
    {
     "name": "stdout",
     "output_type": "stream",
     "text": [
      "              precision    recall  f1-score   support\n",
      "\n",
      "         1.0       0.94      0.94      0.94        17\n",
      "         2.0       1.00      0.93      0.97        15\n",
      "         3.0       0.91      1.00      0.95        10\n",
      "         4.0       0.94      0.94      0.94        16\n",
      "\n",
      "    accuracy                           0.95        58\n",
      "   macro avg       0.95      0.95      0.95        58\n",
      "weighted avg       0.95      0.95      0.95        58\n",
      "\n"
     ]
    }
   ],
   "source": [
    "from sklearn.metrics import accuracy_score, confusion_matrix, classification_report\n",
    "\n",
    "print(classification_report(y_test, clf.predict(x_test_f)))"
   ]
  },
  {
   "cell_type": "code",
   "execution_count": 21,
   "metadata": {},
   "outputs": [
    {
     "name": "stdout",
     "output_type": "stream",
     "text": [
      "[0.95652174 0.93478261 1.         0.97826087 1.        ] 0.9739130434782609 0.02535196476019694\n"
     ]
    }
   ],
   "source": [
    "from sklearn.model_selection import cross_val_score\n",
    "\n",
    "clf = pipeline.make_pipeline(StandardScaler(), svm.SVC())\n",
    "scores = cross_val_score(clf, x_train_f, y_train, cv=5)\n",
    "\n",
    "print(scores, scores.mean(), scores.std())"
   ]
  },
  {
   "cell_type": "code",
   "execution_count": null,
   "metadata": {},
   "outputs": [],
   "source": [
    "%%capture\n",
    "outputs= []\n",
    "acc_train_avg = 0\n",
    "acc_test_avg = 0\n",
    "kappa_train_avg = 0\n",
    "kappa_test_avg = 0\n",
    "for i in range(1, 10):\n",
    "\n",
    "  x_train, y_train = read_file(\"action_train\", f\"A0{i}\")\n",
    "  x_test, y_test = read_file(\"action_test\", f\"A0{i}\")\n",
    "\n",
    "\n",
    "  outputs.append((\"final shapes are: \", x_train.shape, y_train.shape))\n",
    "  outputs.append((\"final shapes are: \", x_test.shape, y_test.shape))\n",
    "\n",
    "  train_coeff = featurize(x_train)\n",
    "  coeff_len = len(train_coeff)\n",
    "\n",
    "  csp = [mne.decoding.CSP(8) for _ in range(coeff_len)]\n",
    "  x_train_f = np.concatenate(tuple(csp[x].fit_transform(train_coeff[x], y_train) for x  in range(coeff_len)),axis=-1)\n",
    "\n",
    "  test_coeff = featurize(x_test)\n",
    "  x_test_f = np.concatenate(tuple(csp[x].transform(test_coeff[x]) for x  in range(coeff_len)),axis=-1)\n",
    "\n",
    "  clf = pipeline.make_pipeline(StandardScaler(), svm.SVC())\n",
    "  clf.fit(x_train_f, y_train)\n",
    "  outputs.append(\"*\"*30)\n",
    "  outputs.append(f\"subject {i} is here babeeeeeeeeeee\")\n",
    "  outputs.append((\"Accuracy is \", sum(clf.predict(x_train_f) == y_train) / len(x_train)))\n",
    "  acc_train_avg += sum(clf.predict(x_train_f) == y_train) / len(x_train)\n",
    "  outputs.append(len(x_train))\n",
    "\n",
    "  outputs.append((\"test Accuracy is \", sum(clf.predict(x_test_f) == y_test) / len(x_test)))\n",
    "  outputs.append(len(x_test))\n",
    "  acc_test_avg += sum(clf.predict(x_test_f) == y_test) / len(x_test)\n",
    "\n",
    "  outputs.append((\"kappa score on train is: \", cohen_kappa_score(clf.predict(x_train_f), y_train)))\n",
    "  outputs.append((\"kappa score on test is: \", cohen_kappa_score(clf.predict(x_test_f), y_test)))\n",
    "  kappa_train_avg += cohen_kappa_score(clf.predict(x_train_f), y_train)\n",
    "  kappa_test_avg += cohen_kappa_score(clf.predict(x_test_f), y_test)\n"
   ]
  },
  {
   "cell_type": "code",
   "execution_count": 2,
   "metadata": {},
   "outputs": [],
   "source": [
    "%%capture\n",
    "outputs= []\n",
    "acc_train_avg = 0\n",
    "acc_test_avg = 0\n",
    "kappa_train_avg = 0\n",
    "kappa_test_avg = 0\n",
    "\n",
    "i = 1\n",
    "x_train, y_train = read_file(\"idle_train\", f\"A0{i}\")\n",
    "x_test, y_test = read_file(\"idle_test\", f\"A0{i}\")\n",
    "x = np.concatenate((x_train, x_test))\n",
    "y = np.concatenate((y_train, y_test))\n",
    "x, y = shuffle(x, y)\n",
    "\n",
    "outputs.append((\"final shapes are: \", x.shape, y.shape))\n",
    "\n",
    "k = 10\n",
    "fold_size = x.shape[0] / 10\n",
    "\n",
    "indices = [i*int(fold_size) for i in range(1, 10)]\n",
    "foldsx = np.split(x, indices)\n",
    "foldsy = np.split(y, indices)\n",
    "for i in range(len(foldsx)):\n",
    "\n",
    "  x_test = foldsx[i]\n",
    "  y_test = foldsy[i]\n",
    "  restx = (foldsx[j] for j in range(len(foldsx)) if j!=i)\n",
    "  resty = (foldsy[j] for j in range(len(foldsx)) if j!=i)\n",
    "  x_train = np.concatenate([a for a in restx])\n",
    "  y_train = np.concatenate([a for a in resty])\n",
    "  \n",
    "  train_coeff = featurize(x_train)\n",
    "  coeff_len = len(train_coeff)\n",
    "\n",
    "  csp = [mne.decoding.CSP(8) for _ in range(coeff_len)]\n",
    "  x_train_f = np.concatenate(tuple(csp[x].fit_transform(train_coeff[x], y_train) for x  in range(coeff_len)),axis=-1)\n",
    "\n",
    "  test_coeff = featurize(x_test)\n",
    "  x_test_f = np.concatenate(tuple(csp[x].transform(test_coeff[x]) for x  in range(coeff_len)),axis=-1)\n",
    "\n",
    "  clf = pipeline.make_pipeline(StandardScaler(), svm.SVC())\n",
    "  clf.fit(x_train_f, y_train)\n",
    "  outputs.append((\"Accuracy is \", sum(clf.predict(x_train_f) == y_train) / len(x_train)))\n",
    "  acc_train_avg += sum(clf.predict(x_train_f) == y_train) / len(x_train)\n",
    "  outputs.append(len(x_train))\n",
    "\n",
    "  outputs.append((\"test Accuracy is \", sum(clf.predict(x_test_f) == y_test) / len(x_test)))\n",
    "  outputs.append(len(x_test))\n",
    "  acc_test_avg += sum(clf.predict(x_test_f) == y_test) / len(x_test)\n",
    "\n",
    "  outputs.append((\"kappa score on train is: \", cohen_kappa_score(clf.predict(x_train_f), y_train)))\n",
    "  outputs.append((\"kappa score on test is: \", cohen_kappa_score(clf.predict(x_test_f), y_test)))\n",
    "  kappa_train_avg += cohen_kappa_score(clf.predict(x_train_f), y_train)\n",
    "  kappa_test_avg += cohen_kappa_score(clf.predict(x_test_f), y_test)\n",
    "\n",
    "\n"
   ]
  },
  {
   "cell_type": "code",
   "execution_count": 4,
   "metadata": {},
   "outputs": [
    {
     "name": "stdout",
     "output_type": "stream",
     "text": [
      "('final shapes are: ', (410, 25, 750), (410,))\n",
      "('Accuracy is ', 0.986449864498645)\n",
      "369\n",
      "('test Accuracy is ', 0.926829268292683)\n",
      "41\n",
      "('kappa score on train is: ', 0.9668183371400824)\n",
      "('kappa score on test is: ', 0.8353413654618473)\n",
      "('Accuracy is ', 0.989159891598916)\n",
      "369\n",
      "('test Accuracy is ', 0.926829268292683)\n",
      "41\n",
      "('kappa score on train is: ', 0.9740970832894599)\n",
      "('kappa score on test is: ', 0.8081123244929798)\n",
      "('Accuracy is ', 0.9728997289972899)\n",
      "369\n",
      "('test Accuracy is ', 0.926829268292683)\n",
      "41\n",
      "('kappa score on train is: ', 0.9338567433856744)\n",
      "('kappa score on test is: ', 0.8093023255813954)\n",
      "('Accuracy is ', 0.981029810298103)\n",
      "369\n",
      "('test Accuracy is ', 0.9512195121951219)\n",
      "41\n",
      "('kappa score on train is: ', 0.9532852259779719)\n",
      "('kappa score on test is: ', 0.8948717948717949)\n",
      "('Accuracy is ', 0.978319783197832)\n",
      "369\n",
      "('test Accuracy is ', 0.975609756097561)\n",
      "41\n",
      "('kappa score on train is: ', 0.9470721124538315)\n",
      "('kappa score on test is: ', 0.9424964936886395)\n",
      "('Accuracy is ', 0.991869918699187)\n",
      "369\n",
      "('test Accuracy is ', 1.0)\n",
      "41\n",
      "('kappa score on train is: ', 0.9806228010292496)\n",
      "('kappa score on test is: ', 1.0)\n",
      "('Accuracy is ', 0.983739837398374)\n",
      "369\n",
      "('test Accuracy is ', 1.0)\n",
      "41\n",
      "('kappa score on train is: ', 0.9615464776990412)\n",
      "('kappa score on test is: ', 1.0)\n",
      "('Accuracy is ', 0.986449864498645)\n",
      "369\n",
      "('test Accuracy is ', 0.975609756097561)\n",
      "41\n",
      "('kappa score on train is: ', 0.9677069294453293)\n",
      "('kappa score on test is: ', 0.9315525876460768)\n",
      "('Accuracy is ', 0.991869918699187)\n",
      "369\n",
      "('test Accuracy is ', 0.9512195121951219)\n",
      "41\n",
      "('kappa score on train is: ', 0.9806228010292496)\n",
      "('kappa score on test is: ', 0.8757575757575757)\n",
      "('Accuracy is ', 0.991869918699187)\n",
      "369\n",
      "('test Accuracy is ', 0.9024390243902439)\n",
      "41\n",
      "('kappa score on train is: ', 0.9799764854843086)\n",
      "('kappa score on test is: ', 0.7949999999999999)\n",
      "average accuracy on train is  0.9853658536585366\n",
      "average accuracy on test is  0.9536585365853657\n",
      "average kappa on train is  0.96456049969342\n",
      "average kappa on test is  0.8892434467500309\n"
     ]
    }
   ],
   "source": [
    "for i in outputs:\n",
    "  print(i)\n",
    "print(\"average accuracy on train is \", acc_train_avg /10)\n",
    "print(\"average accuracy on test is \", acc_test_avg /10)\n",
    "print(\"average kappa on train is \", kappa_train_avg /10)\n",
    "print(\"average kappa on test is \", kappa_test_avg /10)\n",
    "\n",
    "# print(acc_train_avg / 9)\n",
    "# print(acc_test_avg / 9)\n",
    "# print(kappa_train_avg / 9)\n",
    "# print(kappa_test_avg / 9)"
   ]
  },
  {
   "cell_type": "code",
   "execution_count": null,
   "metadata": {},
   "outputs": [],
   "source": []
  }
 ],
 "metadata": {
  "interpreter": {
   "hash": "e5356a0cc24ab421f3fea7505d1e0be20cb885e675eb5d16ff02cf791c65a604"
  },
  "kernelspec": {
   "display_name": "Python 3.9.1 64-bit",
   "language": "python",
   "name": "python3"
  },
  "language_info": {
   "codemirror_mode": {
    "name": "ipython",
    "version": 3
   },
   "file_extension": ".py",
   "mimetype": "text/x-python",
   "name": "python",
   "nbconvert_exporter": "python",
   "pygments_lexer": "ipython3",
   "version": "3.9.1"
  },
  "orig_nbformat": 4
 },
 "nbformat": 4,
 "nbformat_minor": 2
}
