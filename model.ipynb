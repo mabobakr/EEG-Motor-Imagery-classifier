{
 "cells": [
  {
   "cell_type": "code",
   "execution_count": 1,
   "metadata": {},
   "outputs": [],
   "source": [
    "from preprocessing import * \n",
    "from sklearn import svm\n",
    "from sklearn import pipeline\n",
    "from sklearn.preprocessing import StandardScaler\n",
    "from sklearn.metrics import cohen_kappa_score\n",
    "from joblib import dump, load\n",
    "\n",
    "%load_ext autoreload\n",
    "%autoreload 2"
   ]
  },
  {
   "cell_type": "markdown",
   "metadata": {},
   "source": [
    "# Convert GDF files to numpy"
   ]
  },
  {
   "cell_type": "code",
   "execution_count": 3,
   "metadata": {},
   "outputs": [],
   "source": [
    "%%capture\n",
    "# Uncomment the next to split the data folder into train and test\n",
    "# convert_data()\n"
   ]
  },
  {
   "cell_type": "markdown",
   "metadata": {},
   "source": [
    "# Read split data"
   ]
  },
  {
   "cell_type": "code",
   "execution_count": 4,
   "metadata": {},
   "outputs": [
    {
     "name": "stdout",
     "output_type": "stream",
     "text": [
      "final shapes are:  (230, 25, 750) (230,)\n",
      "final shapes are:  (58, 25, 750) (58,)\n"
     ]
    }
   ],
   "source": [
    "i = 7\n",
    "\n",
    "x_train, y_train = read_file(\"action_train\", f\"A0{i}\")\n",
    "x_test, y_test = read_file(\"action_test\", f\"A0{i}\")\n",
    "\n",
    "\n",
    "print(\"final shapes are: \", x_train.shape, y_train.shape)\n",
    "print(\"final shapes are: \", x_test.shape, y_test.shape)\n"
   ]
  },
  {
   "cell_type": "markdown",
   "metadata": {},
   "source": [
    "# Extract features from test and train data"
   ]
  },
  {
   "cell_type": "code",
   "execution_count": 5,
   "metadata": {},
   "outputs": [],
   "source": [
    "%%capture\n",
    "# Apply wavelet decomposition\n",
    "train_coeff = featurize(x_train)\n",
    "coeff_len = len(train_coeff)\n",
    "\n",
    "# Fit CSP model on train data\n",
    "csp = [mne.decoding.CSP(8) for _ in range(coeff_len)]\n",
    "x_train_f = np.concatenate(tuple(csp[x].fit_transform(train_coeff[x], y_train) for x  in range(coeff_len)),axis=-1)\n",
    "\n",
    "# Transform test data\n",
    "test_coeff = featurize(x_test)\n",
    "x_test_f = np.concatenate(tuple(csp[x].transform(test_coeff[x]) for x  in range(coeff_len)),axis=-1)\n",
    "  "
   ]
  },
  {
   "cell_type": "markdown",
   "metadata": {},
   "source": [
    "# Train model and test"
   ]
  },
  {
   "cell_type": "code",
   "execution_count": 6,
   "metadata": {},
   "outputs": [
    {
     "name": "stdout",
     "output_type": "stream",
     "text": [
      "Accuracy is  1.0\n",
      "230\n",
      "test Accuracy is  0.9482758620689655\n",
      "58\n",
      "kappa score on train is:  1.0\n",
      "kappa score on test is:  0.9303721488595438\n"
     ]
    }
   ],
   "source": [
    "clf = pipeline.make_pipeline(StandardScaler(), svm.SVC())\n",
    "clf.fit(x_train_f, y_train)\n",
    "\n",
    "print(\"Accuracy is \", sum(clf.predict(x_train_f) == y_train) / len(x_train))\n",
    "print(len(x_train))\n",
    "\n",
    "print(\"test Accuracy is \", sum(clf.predict(x_test_f) == y_test) / len(x_test))\n",
    "print(len(x_test))\n",
    "\n",
    "print(\"kappa score on train is: \", cohen_kappa_score(clf.predict(x_train_f), y_train))\n",
    "print(\"kappa score on test is: \", cohen_kappa_score(clf.predict(x_test_f), y_test))\n"
   ]
  },
  {
   "cell_type": "markdown",
   "metadata": {},
   "source": [
    "# Save the trained model"
   ]
  },
  {
   "cell_type": "code",
   "execution_count": 7,
   "metadata": {},
   "outputs": [
    {
     "data": {
      "text/plain": [
       "['csp.joblib']"
      ]
     },
     "execution_count": 7,
     "metadata": {},
     "output_type": "execute_result"
    }
   ],
   "source": [
    "dump(clf, \"model.joblib\")\n",
    "dump(csp, \"csp.joblib\")"
   ]
  },
  {
   "cell_type": "markdown",
   "metadata": {},
   "source": [
    "# View classification report"
   ]
  },
  {
   "cell_type": "code",
   "execution_count": 8,
   "metadata": {},
   "outputs": [
    {
     "name": "stdout",
     "output_type": "stream",
     "text": [
      "              precision    recall  f1-score   support\n",
      "\n",
      "         1.0       0.94      0.94      0.94        17\n",
      "         2.0       1.00      0.93      0.97        15\n",
      "         3.0       0.91      1.00      0.95        10\n",
      "         4.0       0.94      0.94      0.94        16\n",
      "\n",
      "    accuracy                           0.95        58\n",
      "   macro avg       0.95      0.95      0.95        58\n",
      "weighted avg       0.95      0.95      0.95        58\n",
      "\n"
     ]
    }
   ],
   "source": [
    "from sklearn.metrics import accuracy_score, confusion_matrix, classification_report\n",
    "\n",
    "print(classification_report(y_test, clf.predict(x_test_f)))"
   ]
  },
  {
   "cell_type": "markdown",
   "metadata": {},
   "source": [
    "# Calculate average on all subjects"
   ]
  },
  {
   "cell_type": "code",
   "execution_count": 9,
   "metadata": {},
   "outputs": [],
   "source": [
    "%%capture\n",
    "outputs= []\n",
    "acc_train_avg = 0\n",
    "acc_test_avg = 0\n",
    "kappa_train_avg = 0\n",
    "kappa_test_avg = 0\n",
    "for i in range(1, 10):\n",
    "\n",
    "  x_train, y_train = read_file(\"action_train\", f\"A0{i}\")\n",
    "  x_test, y_test = read_file(\"action_test\", f\"A0{i}\")\n",
    "\n",
    "\n",
    "  outputs.append((\"final shapes are: \", x_train.shape, y_train.shape))\n",
    "  outputs.append((\"final shapes are: \", x_test.shape, y_test.shape))\n",
    "\n",
    "  train_coeff = featurize(x_train)\n",
    "  coeff_len = len(train_coeff)\n",
    "\n",
    "  csp = [mne.decoding.CSP(8) for _ in range(coeff_len)]\n",
    "  x_train_f = np.concatenate(tuple(csp[x].fit_transform(train_coeff[x], y_train) for x  in range(coeff_len)),axis=-1)\n",
    "\n",
    "  test_coeff = featurize(x_test)\n",
    "  x_test_f = np.concatenate(tuple(csp[x].transform(test_coeff[x]) for x  in range(coeff_len)),axis=-1)\n",
    "\n",
    "  clf = pipeline.make_pipeline(StandardScaler(), svm.SVC())\n",
    "  clf.fit(x_train_f, y_train)\n",
    "  outputs.append(\"*\"*30)\n",
    "  outputs.append(f\"subject {i} is here babeeeeeeeeeee\")\n",
    "  outputs.append((\"Accuracy is \", sum(clf.predict(x_train_f) == y_train) / len(x_train)))\n",
    "  acc_train_avg += sum(clf.predict(x_train_f) == y_train) / len(x_train)\n",
    "  outputs.append(len(x_train))\n",
    "\n",
    "  outputs.append((\"test Accuracy is \", sum(clf.predict(x_test_f) == y_test) / len(x_test)))\n",
    "  outputs.append(len(x_test))\n",
    "  acc_test_avg += sum(clf.predict(x_test_f) == y_test) / len(x_test)\n",
    "\n",
    "  outputs.append((\"kappa score on train is: \", cohen_kappa_score(clf.predict(x_train_f), y_train)))\n",
    "  outputs.append((\"kappa score on test is: \", cohen_kappa_score(clf.predict(x_test_f), y_test)))\n",
    "  kappa_train_avg += cohen_kappa_score(clf.predict(x_train_f), y_train)\n",
    "  kappa_test_avg += cohen_kappa_score(clf.predict(x_test_f), y_test)\n"
   ]
  },
  {
   "cell_type": "markdown",
   "metadata": {},
   "source": [
    "# Print previous cell output"
   ]
  },
  {
   "cell_type": "code",
   "execution_count": 10,
   "metadata": {},
   "outputs": [
    {
     "name": "stdout",
     "output_type": "stream",
     "text": [
      "('final shapes are: ', (230, 25, 750), (230,))\n",
      "('final shapes are: ', (58, 25, 750), (58,))\n",
      "******************************\n",
      "subject 1 is here babeeeeeeeeeee\n",
      "('Accuracy is ', 1.0)\n",
      "230\n",
      "('test Accuracy is ', 0.7931034482758621)\n",
      "58\n",
      "('kappa score on train is: ', 1.0)\n",
      "('kappa score on test is: ', 0.7203696263559662)\n",
      "('final shapes are: ', (230, 25, 750), (230,))\n",
      "('final shapes are: ', (58, 25, 750), (58,))\n",
      "******************************\n",
      "subject 2 is here babeeeeeeeeeee\n",
      "('Accuracy is ', 1.0)\n",
      "230\n",
      "('test Accuracy is ', 0.7931034482758621)\n",
      "58\n",
      "('kappa score on train is: ', 1.0)\n",
      "('kappa score on test is: ', 0.7207062600321027)\n",
      "('final shapes are: ', (230, 25, 750), (230,))\n",
      "('final shapes are: ', (58, 25, 750), (58,))\n",
      "******************************\n",
      "subject 3 is here babeeeeeeeeeee\n",
      "('Accuracy is ', 0.9956521739130435)\n",
      "230\n",
      "('test Accuracy is ', 0.7068965517241379)\n",
      "58\n",
      "('kappa score on train is: ', 0.9941977800201817)\n",
      "('kappa score on test is: ', 0.6070147469111199)\n",
      "('final shapes are: ', (230, 25, 750), (230,))\n",
      "('final shapes are: ', (58, 25, 750), (58,))\n",
      "******************************\n",
      "subject 4 is here babeeeeeeeeeee\n",
      "('Accuracy is ', 0.9956521739130435)\n",
      "230\n",
      "('test Accuracy is ', 0.6206896551724138)\n",
      "58\n",
      "('kappa score on train is: ', 0.9942009984367909)\n",
      "('kappa score on test is: ', 0.4893957583033214)\n",
      "('final shapes are: ', (230, 25, 750), (230,))\n",
      "('final shapes are: ', (58, 25, 750), (58,))\n",
      "******************************\n",
      "subject 5 is here babeeeeeeeeeee\n",
      "('Accuracy is ', 0.991304347826087)\n",
      "230\n",
      "('test Accuracy is ', 0.6724137931034483)\n",
      "58\n",
      "('kappa score on train is: ', 0.9883958527786887)\n",
      "('kappa score on test is: ', 0.5645989727380482)\n",
      "('final shapes are: ', (230, 25, 750), (230,))\n",
      "('final shapes are: ', (58, 25, 750), (58,))\n",
      "******************************\n",
      "subject 6 is here babeeeeeeeeeee\n",
      "('Accuracy is ', 1.0)\n",
      "230\n",
      "('test Accuracy is ', 0.5172413793103449)\n",
      "58\n",
      "('kappa score on train is: ', 1.0)\n",
      "('kappa score on test is: ', 0.3621366849960722)\n",
      "('final shapes are: ', (230, 25, 750), (230,))\n",
      "('final shapes are: ', (58, 25, 750), (58,))\n",
      "******************************\n",
      "subject 7 is here babeeeeeeeeeee\n",
      "('Accuracy is ', 1.0)\n",
      "230\n",
      "('test Accuracy is ', 0.9482758620689655)\n",
      "58\n",
      "('kappa score on train is: ', 1.0)\n",
      "('kappa score on test is: ', 0.9303721488595438)\n",
      "('final shapes are: ', (230, 25, 750), (230,))\n",
      "('final shapes are: ', (58, 25, 750), (58,))\n",
      "******************************\n",
      "subject 8 is here babeeeeeeeeeee\n",
      "('Accuracy is ', 1.0)\n",
      "230\n",
      "('test Accuracy is ', 0.8103448275862069)\n",
      "58\n",
      "('kappa score on train is: ', 1.0)\n",
      "('kappa score on test is: ', 0.7478260869565218)\n",
      "('final shapes are: ', (230, 25, 750), (230,))\n",
      "('final shapes are: ', (58, 25, 750), (58,))\n",
      "******************************\n",
      "subject 9 is here babeeeeeeeeeee\n",
      "('Accuracy is ', 0.9869565217391304)\n",
      "230\n",
      "('test Accuracy is ', 0.7758620689655172)\n",
      "58\n",
      "('kappa score on train is: ', 0.9825854323355712)\n",
      "('kappa score on test is: ', 0.6952303961196443)\n",
      "0.9966183574879229\n",
      "0.7375478927203065\n",
      "0.9954866737301368\n",
      "0.6486278534747045\n"
     ]
    }
   ],
   "source": [
    "for i in outputs:\n",
    "  print(i)\n",
    "\n",
    "print(acc_train_avg / 9)\n",
    "print(acc_test_avg / 9)\n",
    "print(kappa_train_avg / 9)\n",
    "print(kappa_test_avg / 9)"
   ]
  },
  {
   "cell_type": "code",
   "execution_count": null,
   "metadata": {},
   "outputs": [],
   "source": []
  }
 ],
 "metadata": {
  "interpreter": {
   "hash": "e5356a0cc24ab421f3fea7505d1e0be20cb885e675eb5d16ff02cf791c65a604"
  },
  "kernelspec": {
   "display_name": "Python 3.9.1 64-bit",
   "language": "python",
   "name": "python3"
  },
  "language_info": {
   "codemirror_mode": {
    "name": "ipython",
    "version": 3
   },
   "file_extension": ".py",
   "mimetype": "text/x-python",
   "name": "python",
   "nbconvert_exporter": "python",
   "pygments_lexer": "ipython3",
   "version": "3.9.1"
  },
  "orig_nbformat": 4
 },
 "nbformat": 4,
 "nbformat_minor": 2
}
