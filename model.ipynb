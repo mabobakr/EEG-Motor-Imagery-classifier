{
 "cells": [
  {
   "cell_type": "code",
   "execution_count": 126,
   "metadata": {},
   "outputs": [
    {
     "name": "stdout",
     "output_type": "stream",
     "text": [
      "The autoreload extension is already loaded. To reload it, use:\n",
      "  %reload_ext autoreload\n"
     ]
    }
   ],
   "source": [
    "from preprocessing import * \n",
    "import mne\n",
    "import pywt\n",
    "from sklearn import svm\n",
    "\n",
    "from scipy import stats\n",
    "\n",
    "%load_ext autoreload\n",
    "%autoreload 2"
   ]
  },
  {
   "cell_type": "code",
   "execution_count": null,
   "metadata": {},
   "outputs": [],
   "source": [
    "# convert_data()\n",
    "data = mne.io.read_raw_gdf(\"data/A01T.gdf\")\n",
    "data.to_data_frame()"
   ]
  },
  {
   "cell_type": "code",
   "execution_count": null,
   "metadata": {},
   "outputs": [],
   "source": [
    "# data.annotations\n",
    "# for i in data.annotations:\n",
    "#   print(i)\n",
    "for c in mne.events_from_annotations(data)[0]:\n",
    "  print(c)"
   ]
  },
  {
   "cell_type": "code",
   "execution_count": 90,
   "metadata": {},
   "outputs": [],
   "source": [
    "x = np.load('numpy_data/A01TX.npy')\n",
    "x = x[:, :,1:]\n",
    "y = np.load('numpy_data/A01TY.npy')"
   ]
  },
  {
   "cell_type": "code",
   "execution_count": 91,
   "metadata": {},
   "outputs": [
    {
     "name": "stdout",
     "output_type": "stream",
     "text": [
      "(288, 25, 313) (288,)\n"
     ]
    }
   ],
   "source": [
    "x = np.swapaxes(x, 1, 2)\n",
    "print(x.shape, y.shape)\n"
   ]
  },
  {
   "cell_type": "code",
   "execution_count": 125,
   "metadata": {},
   "outputs": [
    {
     "name": "stderr",
     "output_type": "stream",
     "text": [
      "c:\\Users\\Mohamad Abo Bakr\\AppData\\Local\\Programs\\Python\\Python39\\lib\\site-packages\\pywt\\_multilevel.py:43: UserWarning: Level value of 6 is too high: all coefficients will experience boundary effects.\n",
      "  warnings.warn(\n"
     ]
    },
    {
     "name": "stdout",
     "output_type": "stream",
     "text": [
      "(25, 313) (25, 42)\n",
      "(288, 25, 313) (288, 25, 42)\n"
     ]
    }
   ],
   "source": [
    "def featurize(x):\n",
    "  coeff = pywt.wavedec(x, 'db4', level = 6)\n",
    "  \n",
    "  features = np.zeros((*x.shape[0:-1], 6*7))\n",
    "  \n",
    "  for i, c in enumerate(coeff):\n",
    "    mean = np.mean(c, axis=-1)\n",
    "    abs_mean = np.mean(np.abs(c), axis=-1)\n",
    "    mean_squared = np.mean(c**2, axis=-1)\n",
    "    std = np.std(c, axis=-1)\n",
    "    var = np.var(c, axis=-1)\n",
    "    skewness = stats.skew(c, axis=-1)\n",
    "\n",
    "    if len(features.shape) == 3:\n",
    "      features[:,:, i*6: i*6 + 6] = np.stack([mean, abs_mean, mean_squared, std, var, skewness], axis = -1)\n",
    "    elif len(features.shape) == 2:\n",
    "      features[:, i*6: i*6 + 6] = np.stack([mean, abs_mean, mean_squared, std, var, skewness], axis = -1)\n",
    "\n",
    "  return features\n",
    "\n",
    "\n",
    "print(x[0,:,:].shape, featurize(x[0,:,:]).shape)\n",
    "print(x.shape, featurize(x).shape)"
   ]
  },
  {
   "cell_type": "code",
   "execution_count": 106,
   "metadata": {},
   "outputs": [
    {
     "name": "stdout",
     "output_type": "stream",
     "text": [
      "(288, 25, 42)\n"
     ]
    }
   ],
   "source": [
    "# now we have CA6 + CD6 -> CD1 (6 matrices) * 7 features = 49 feature vector\n",
    "svm."
   ]
  },
  {
   "cell_type": "code",
   "execution_count": 108,
   "metadata": {},
   "outputs": [],
   "source": [
    "# c = pywt.WaveletPacket(x[0,0,:], 'db4', mode='symmetric', maxlevel=5)\n",
    "\n",
    "# for node in c.get_level(5, 'natural'):\n",
    "#   print(node.path)\n",
    "\n",
    "# pos = []\n",
    "# np.append(pos, )"
   ]
  },
  {
   "cell_type": "code",
   "execution_count": null,
   "metadata": {},
   "outputs": [],
   "source": [
    "# w = pywt.Wavelet('haar')\n",
    "# print(pywt.dwt_max_level(313, w.dec_len))"
   ]
  },
  {
   "cell_type": "code",
   "execution_count": null,
   "metadata": {},
   "outputs": [],
   "source": [
    "# all = []\n",
    "\n",
    "# for i in pywt.families():\n",
    "#   for j in pywt.wavelist(i):\n",
    "#     all.append(j)\n",
    "\n",
    "# print(len(all))"
   ]
  },
  {
   "cell_type": "code",
   "execution_count": null,
   "metadata": {},
   "outputs": [],
   "source": []
  }
 ],
 "metadata": {
  "interpreter": {
   "hash": "e5356a0cc24ab421f3fea7505d1e0be20cb885e675eb5d16ff02cf791c65a604"
  },
  "kernelspec": {
   "display_name": "Python 3.9.1 64-bit",
   "language": "python",
   "name": "python3"
  },
  "language_info": {
   "codemirror_mode": {
    "name": "ipython",
    "version": 3
   },
   "file_extension": ".py",
   "mimetype": "text/x-python",
   "name": "python",
   "nbconvert_exporter": "python",
   "pygments_lexer": "ipython3",
   "version": "3.9.1"
  },
  "orig_nbformat": 4
 },
 "nbformat": 4,
 "nbformat_minor": 2
}
