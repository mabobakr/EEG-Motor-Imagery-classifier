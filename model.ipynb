{
 "cells": [
  {
   "cell_type": "code",
   "execution_count": 110,
   "metadata": {},
   "outputs": [
    {
     "name": "stdout",
     "output_type": "stream",
     "text": [
      "The autoreload extension is already loaded. To reload it, use:\n",
      "  %reload_ext autoreload\n"
     ]
    }
   ],
   "source": [
    "from preprocessing import * \n",
    "from sklearn import svm\n",
    "from sklearn import pipeline\n",
    "from sklearn.preprocessing import StandardScaler\n",
    "from sklearn.metrics import cohen_kappa_score\n",
    "from joblib import dump, load\n",
    "\n",
    "%load_ext autoreload\n",
    "%autoreload 2"
   ]
  },
  {
   "cell_type": "markdown",
   "metadata": {},
   "source": [
    "# Extract data samples from raw GDF files"
   ]
  },
  {
   "cell_type": "code",
   "execution_count": 111,
   "metadata": {},
   "outputs": [],
   "source": [
    "%%capture\n",
    "convert_data()\n"
   ]
  },
  {
   "cell_type": "markdown",
   "metadata": {},
   "source": [
    "# Read and split the data"
   ]
  },
  {
   "cell_type": "code",
   "execution_count": 112,
   "metadata": {},
   "outputs": [
    {
     "name": "stdout",
     "output_type": "stream",
     "text": [
      "final shapes are:  (230, 25, 750) (230,)\n",
      "final shapes are:  (58, 25, 750) (58,)\n"
     ]
    }
   ],
   "source": [
    "i = 7\n",
    "\n",
    "x_train, y_train = read_file(\"action_train\", f\"A0{i}\")\n",
    "x_test, y_test = read_file(\"action_test\", f\"A0{i}\")\n",
    "\n",
    "\n",
    "print(\"final shapes are: \", x_train.shape, y_train.shape)\n",
    "print(\"final shapes are: \", x_test.shape, y_test.shape)\n"
   ]
  },
  {
   "cell_type": "markdown",
   "metadata": {},
   "source": [
    "# Extract features from test and train data"
   ]
  },
  {
   "cell_type": "code",
   "execution_count": 113,
   "metadata": {},
   "outputs": [],
   "source": [
    "%%capture\n",
    "train_coeff = featurize(x_train)\n",
    "coeff_len = len(train_coeff)\n",
    "\n",
    "csp = [mne.decoding.CSP(8) for _ in range(coeff_len)]\n",
    "x_train_f = np.concatenate(tuple(csp[x].fit_transform(train_coeff[x], y_train) for x  in range(coeff_len)),axis=-1)\n",
    "\n",
    "test_coeff = featurize(x_test)\n",
    "x_test_f = np.concatenate(tuple(csp[x].transform(test_coeff[x]) for x  in range(coeff_len)),axis=-1)\n",
    "  "
   ]
  },
  {
   "cell_type": "markdown",
   "metadata": {},
   "source": [
    "# Train model and test"
   ]
  },
  {
   "cell_type": "code",
   "execution_count": 114,
   "metadata": {},
   "outputs": [
    {
     "name": "stdout",
     "output_type": "stream",
     "text": [
      "Accuracy is  1.0\n",
      "230\n",
      "test Accuracy is  0.9137931034482759\n",
      "58\n",
      "kappa score on train is:  1.0\n",
      "kappa score on test is:  0.884737678855326\n"
     ]
    }
   ],
   "source": [
    "clf = pipeline.make_pipeline(StandardScaler(), svm.SVC())\n",
    "clf.fit(x_train_f, y_train)\n",
    "\n",
    "print(\"Accuracy is \", sum(clf.predict(x_train_f) == y_train) / len(x_train))\n",
    "print(len(x_train))\n",
    "\n",
    "print(\"test Accuracy is \", sum(clf.predict(x_test_f) == y_test) / len(x_test))\n",
    "print(len(x_test))\n",
    "\n",
    "print(\"kappa score on train is: \", cohen_kappa_score(clf.predict(x_train_f), y_train))\n",
    "print(\"kappa score on test is: \", cohen_kappa_score(clf.predict(x_test_f), y_test))\n"
   ]
  },
  {
   "cell_type": "markdown",
   "metadata": {},
   "source": [
    "# Save the trained model"
   ]
  },
  {
   "cell_type": "code",
   "execution_count": 115,
   "metadata": {},
   "outputs": [
    {
     "data": {
      "text/plain": [
       "['csp.joblib']"
      ]
     },
     "execution_count": 115,
     "metadata": {},
     "output_type": "execute_result"
    }
   ],
   "source": [
    "dump(clf, \"model.joblib\")\n",
    "dump(csp, \"csp.joblib\")"
   ]
  },
  {
   "cell_type": "code",
   "execution_count": null,
   "metadata": {},
   "outputs": [],
   "source": []
  }
 ],
 "metadata": {
  "interpreter": {
   "hash": "e5356a0cc24ab421f3fea7505d1e0be20cb885e675eb5d16ff02cf791c65a604"
  },
  "kernelspec": {
   "display_name": "Python 3.9.1 64-bit",
   "language": "python",
   "name": "python3"
  },
  "language_info": {
   "codemirror_mode": {
    "name": "ipython",
    "version": 3
   },
   "file_extension": ".py",
   "mimetype": "text/x-python",
   "name": "python",
   "nbconvert_exporter": "python",
   "pygments_lexer": "ipython3",
   "version": "3.9.1"
  },
  "orig_nbformat": 4
 },
 "nbformat": 4,
 "nbformat_minor": 2
}
