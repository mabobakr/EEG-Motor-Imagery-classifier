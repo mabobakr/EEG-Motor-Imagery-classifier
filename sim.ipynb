{
 "cells": [
  {
   "cell_type": "code",
   "execution_count": 45,
   "metadata": {},
   "outputs": [
    {
     "name": "stdout",
     "output_type": "stream",
     "text": [
      "The autoreload extension is already loaded. To reload it, use:\n",
      "  %reload_ext autoreload\n"
     ]
    },
    {
     "name": "stderr",
     "output_type": "stream",
     "text": [
      "/media/mohammed/New Volume/graduation project/car-code/EEG-Motor-Imagery-classifier/env/lib/python3.9/site-packages/sklearn/base.py:329: UserWarning: Trying to unpickle estimator StandardScaler from version 1.0.1 when using version 1.1.1. This might lead to breaking code or invalid results. Use at your own risk. For more info please refer to:\n",
      "https://scikit-learn.org/stable/model_persistence.html#security-maintainability-limitations\n",
      "  warnings.warn(\n",
      "/media/mohammed/New Volume/graduation project/car-code/EEG-Motor-Imagery-classifier/env/lib/python3.9/site-packages/sklearn/base.py:329: UserWarning: Trying to unpickle estimator SVC from version 1.0.1 when using version 1.1.1. This might lead to breaking code or invalid results. Use at your own risk. For more info please refer to:\n",
      "https://scikit-learn.org/stable/model_persistence.html#security-maintainability-limitations\n",
      "  warnings.warn(\n",
      "/media/mohammed/New Volume/graduation project/car-code/EEG-Motor-Imagery-classifier/env/lib/python3.9/site-packages/sklearn/base.py:329: UserWarning: Trying to unpickle estimator Pipeline from version 1.0.1 when using version 1.1.1. This might lead to breaking code or invalid results. Use at your own risk. For more info please refer to:\n",
      "https://scikit-learn.org/stable/model_persistence.html#security-maintainability-limitations\n",
      "  warnings.warn(\n"
     ]
    }
   ],
   "source": [
    "from preprocessing import * \n",
    "from sklearn import svm\n",
    "from sklearn import pipeline\n",
    "from joblib import dump, load\n",
    "\n",
    "\n",
    "\n",
    "%load_ext autoreload\n",
    "%autoreload 2"
   ]
  },
  {
   "cell_type": "markdown",
   "metadata": {},
   "source": [
    "# Create test data folder"
   ]
  },
  {
   "cell_type": "code",
   "execution_count": null,
   "metadata": {},
   "outputs": [],
   "source": [
    "create_test_data()"
   ]
  },
  {
   "cell_type": "markdown",
   "metadata": {},
   "source": [
    "# Load the model parameters and data"
   ]
  },
  {
   "cell_type": "code",
   "execution_count": 47,
   "metadata": {},
   "outputs": [
    {
     "name": "stdout",
     "output_type": "stream",
     "text": [
      "(58, 25, 313) ['L' 'R' 'F' 'B' 'R' 'B' 'L' 'B' 'F' 'B' 'B' 'L' 'L' 'B' 'L' 'F' 'L' 'R'\n",
      " 'B' 'F' 'B' 'L' 'R' 'R' 'R' 'L' 'B' 'B' 'R' 'F' 'B' 'R' 'R' 'B' 'F' 'F'\n",
      " 'R' 'F' 'B' 'R' 'L' 'R' 'R' 'L' 'R' 'L' 'B' 'L' 'R' 'B' 'R' 'R' 'R' 'B'\n",
      " 'F' 'F' 'F' 'B']\n"
     ]
    }
   ],
   "source": [
    "\n",
    "x, y = read_file_sim(8)\n",
    "print(x.shape, y)\n"
   ]
  },
  {
   "cell_type": "code",
   "execution_count": 48,
   "metadata": {},
   "outputs": [],
   "source": [
    "\n",
    "test_data, actions = read_file_sim(8)"
   ]
  },
  {
   "cell_type": "code",
   "execution_count": 50,
   "metadata": {},
   "outputs": [
    {
     "name": "stdout",
     "output_type": "stream",
     "text": [
      "[[ 7.37304687  6.59179688  5.02929688 ... 18.9453125   8.15429688\n",
      "  10.64453125]\n",
      " [-2.83203125 -1.66015625 -0.48828125 ... 19.09179687  7.17773438\n",
      "   7.27539062]\n",
      " [ 1.7578125   2.05078125  1.02539062 ... 15.96679688  4.93164062\n",
      "   5.6640625 ]\n",
      " ...\n",
      " [ 0.9765625  -2.44140625 -0.48828125 ... 12.20703125  5.37109375\n",
      "   1.46484375]\n",
      " [ 4.8828125   2.9296875   3.41796875 ... 24.4140625   5.859375\n",
      "  10.25390625]\n",
      " [ 8.7890625   6.8359375   8.30078125 ... 31.25       19.04296875\n",
      "  17.578125  ]]\n",
      "[[27.24609375 32.27539062 23.29101562 ... -2.1484375   5.41992187\n",
      "   9.91210938]\n",
      " [19.18945312 26.46484375 20.99609375 ... -1.02539062  5.12695312\n",
      "   6.68945312]\n",
      " [24.46289062 30.61523437 22.70507812 ... -4.63867188  0.92773438\n",
      "   5.2734375 ]\n",
      " ...\n",
      " [ 3.90625     9.765625    3.90625    ... -5.859375    0.48828125\n",
      "  -5.859375  ]\n",
      " [16.11328125 21.484375   16.11328125 ... 21.97265625 37.109375\n",
      "  32.2265625 ]\n",
      " [28.3203125  24.90234375 13.671875   ... 40.52734375 60.05859375\n",
      "  57.6171875 ]]\n",
      "[[ -2.9296875    0.92773438  -5.46875    ...  -2.00195312   4.98046875\n",
      "    4.54101562]\n",
      " [  7.91015625   8.44726562  -1.02539062 ...  -0.24414062   8.54492188\n",
      "    7.08007812]\n",
      " [ -0.04882812   4.05273438  -2.39257812 ...   0.92773438   7.8125\n",
      "    6.15234375]\n",
      " ...\n",
      " [ -0.9765625    3.41796875  -3.41796875 ...  13.18359375  18.06640625\n",
      "   10.7421875 ]\n",
      " [ -1.953125     2.44140625 -12.6953125  ...  13.18359375  21.484375\n",
      "   12.6953125 ]\n",
      " [  4.39453125   4.8828125   -6.34765625 ...   7.8125      12.20703125\n",
      "    7.32421875]]\n",
      "[[ -2.5390625   -6.20117188 -13.8671875  ...  11.9140625    8.93554688\n",
      "    4.8828125 ]\n",
      " [ 11.96289062   3.61328125  -3.75976562 ...   7.03125      7.2265625\n",
      "   -2.05078125]\n",
      " [  3.515625    -2.19726562 -14.0625     ...  13.28125     10.546875\n",
      "    4.1015625 ]\n",
      " ...\n",
      " [  7.32421875  -2.44140625   1.46484375 ...   2.9296875   -0.48828125\n",
      "   -8.30078125]\n",
      " [  6.8359375   -4.39453125  -1.953125   ...   5.37109375   1.46484375\n",
      "    0.        ]\n",
      " [  1.46484375 -11.23046875  -1.953125   ...   7.32421875   4.39453125\n",
      "    2.44140625]]\n"
     ]
    }
   ],
   "source": [
    "data_hash ={\"L\":[], \"R\":[], \"B\":[], \"F\":[]}\n",
    "for one_datum, one_label in zip(test_data, actions):\n",
    "    data_hash[one_label].append(one_datum)\n",
    "print(data_hash[\"L\"][0])\n",
    "print(data_hash[\"R\"][0])\n",
    "print(data_hash[\"B\"][0])\n",
    "print(data_hash[\"F\"][0])\n"
   ]
  },
  {
   "cell_type": "markdown",
   "metadata": {},
   "source": [
    "# Extract features and predict"
   ]
  },
  {
   "cell_type": "code",
   "execution_count": 9,
   "metadata": {},
   "outputs": [
    {
     "name": "stderr",
     "output_type": "stream",
     "text": [
      "/media/mohammed/New Volume/graduation project/car-code/EEG-Motor-Imagery-classifier/env/lib/python3.9/site-packages/sklearn/base.py:329: UserWarning: Trying to unpickle estimator StandardScaler from version 1.0.1 when using version 1.1.1. This might lead to breaking code or invalid results. Use at your own risk. For more info please refer to:\n",
      "https://scikit-learn.org/stable/model_persistence.html#security-maintainability-limitations\n",
      "  warnings.warn(\n",
      "/media/mohammed/New Volume/graduation project/car-code/EEG-Motor-Imagery-classifier/env/lib/python3.9/site-packages/sklearn/base.py:329: UserWarning: Trying to unpickle estimator SVC from version 1.0.1 when using version 1.1.1. This might lead to breaking code or invalid results. Use at your own risk. For more info please refer to:\n",
      "https://scikit-learn.org/stable/model_persistence.html#security-maintainability-limitations\n",
      "  warnings.warn(\n",
      "/media/mohammed/New Volume/graduation project/car-code/EEG-Motor-Imagery-classifier/env/lib/python3.9/site-packages/sklearn/base.py:329: UserWarning: Trying to unpickle estimator Pipeline from version 1.0.1 when using version 1.1.1. This might lead to breaking code or invalid results. Use at your own risk. For more info please refer to:\n",
      "https://scikit-learn.org/stable/model_persistence.html#security-maintainability-limitations\n",
      "  warnings.warn(\n",
      "/media/mohammed/New Volume/graduation project/car-code/EEG-Motor-Imagery-classifier/env/lib/python3.9/site-packages/pywt/_multilevel.py:43: UserWarning: Level value of 7 is too high: all coefficients will experience boundary effects.\n",
      "  warnings.warn(\n"
     ]
    },
    {
     "data": {
      "text/plain": [
       "'L'"
      ]
     },
     "execution_count": 9,
     "metadata": {},
     "output_type": "execute_result"
    }
   ],
   "source": [
    "predict(x[0], \"model.joblib\", \"csp.joblib\")"
   ]
  },
  {
   "cell_type": "code",
   "execution_count": 13,
   "metadata": {},
   "outputs": [
    {
     "name": "stderr",
     "output_type": "stream",
     "text": [
      "/media/mohammed/New Volume/graduation project/car-code/EEG-Motor-Imagery-classifier/env/lib/python3.9/site-packages/pywt/_multilevel.py:43: UserWarning: Level value of 7 is too high: all coefficients will experience boundary effects.\n",
      "  warnings.warn(\n"
     ]
    },
    {
     "data": {
      "text/plain": [
       "'L'"
      ]
     },
     "execution_count": 13,
     "metadata": {},
     "output_type": "execute_result"
    }
   ],
   "source": [
    "\n"
   ]
  },
  {
   "cell_type": "code",
   "execution_count": 38,
   "metadata": {},
   "outputs": [
    {
     "name": "stdout",
     "output_type": "stream",
     "text": [
      "['L', 'R ', 'B', 'B', 'R ', 'B', 'L', 'B', 'F', 'B', 'B', 'L', 'L', 'B', 'L', 'B', 'L', 'R ', 'B', 'F', 'B', 'L', 'R ', 'R ', 'R ', 'L', 'B', 'B', 'R ', 'L', 'B', 'L', 'R ', 'B', 'B', 'F', 'R ', 'F', 'B', 'L', 'L', 'R ', 'L', 'L', 'R ', 'R ', 'B', 'L', 'B', 'B', 'R ', 'R ', 'R ', 'B', 'F', 'R ', 'F', 'B']\n"
     ]
    },
    {
     "name": "stderr",
     "output_type": "stream",
     "text": [
      "/media/mohammed/New Volume/graduation project/car-code/EEG-Motor-Imagery-classifier/env/lib/python3.9/site-packages/pywt/_multilevel.py:43: UserWarning: Level value of 7 is too high: all coefficients will experience boundary effects.\n",
      "  warnings.warn(\n",
      "/media/mohammed/New Volume/graduation project/car-code/EEG-Motor-Imagery-classifier/env/lib/python3.9/site-packages/pywt/_multilevel.py:43: UserWarning: Level value of 7 is too high: all coefficients will experience boundary effects.\n",
      "  warnings.warn(\n",
      "/media/mohammed/New Volume/graduation project/car-code/EEG-Motor-Imagery-classifier/env/lib/python3.9/site-packages/pywt/_multilevel.py:43: UserWarning: Level value of 7 is too high: all coefficients will experience boundary effects.\n",
      "  warnings.warn(\n",
      "/media/mohammed/New Volume/graduation project/car-code/EEG-Motor-Imagery-classifier/env/lib/python3.9/site-packages/pywt/_multilevel.py:43: UserWarning: Level value of 7 is too high: all coefficients will experience boundary effects.\n",
      "  warnings.warn(\n",
      "/media/mohammed/New Volume/graduation project/car-code/EEG-Motor-Imagery-classifier/env/lib/python3.9/site-packages/pywt/_multilevel.py:43: UserWarning: Level value of 7 is too high: all coefficients will experience boundary effects.\n",
      "  warnings.warn(\n",
      "/media/mohammed/New Volume/graduation project/car-code/EEG-Motor-Imagery-classifier/env/lib/python3.9/site-packages/pywt/_multilevel.py:43: UserWarning: Level value of 7 is too high: all coefficients will experience boundary effects.\n",
      "  warnings.warn(\n",
      "/media/mohammed/New Volume/graduation project/car-code/EEG-Motor-Imagery-classifier/env/lib/python3.9/site-packages/pywt/_multilevel.py:43: UserWarning: Level value of 7 is too high: all coefficients will experience boundary effects.\n",
      "  warnings.warn(\n",
      "/media/mohammed/New Volume/graduation project/car-code/EEG-Motor-Imagery-classifier/env/lib/python3.9/site-packages/pywt/_multilevel.py:43: UserWarning: Level value of 7 is too high: all coefficients will experience boundary effects.\n",
      "  warnings.warn(\n",
      "/media/mohammed/New Volume/graduation project/car-code/EEG-Motor-Imagery-classifier/env/lib/python3.9/site-packages/pywt/_multilevel.py:43: UserWarning: Level value of 7 is too high: all coefficients will experience boundary effects.\n",
      "  warnings.warn(\n",
      "/media/mohammed/New Volume/graduation project/car-code/EEG-Motor-Imagery-classifier/env/lib/python3.9/site-packages/pywt/_multilevel.py:43: UserWarning: Level value of 7 is too high: all coefficients will experience boundary effects.\n",
      "  warnings.warn(\n",
      "/media/mohammed/New Volume/graduation project/car-code/EEG-Motor-Imagery-classifier/env/lib/python3.9/site-packages/pywt/_multilevel.py:43: UserWarning: Level value of 7 is too high: all coefficients will experience boundary effects.\n",
      "  warnings.warn(\n",
      "/media/mohammed/New Volume/graduation project/car-code/EEG-Motor-Imagery-classifier/env/lib/python3.9/site-packages/pywt/_multilevel.py:43: UserWarning: Level value of 7 is too high: all coefficients will experience boundary effects.\n",
      "  warnings.warn(\n",
      "/media/mohammed/New Volume/graduation project/car-code/EEG-Motor-Imagery-classifier/env/lib/python3.9/site-packages/pywt/_multilevel.py:43: UserWarning: Level value of 7 is too high: all coefficients will experience boundary effects.\n",
      "  warnings.warn(\n",
      "/media/mohammed/New Volume/graduation project/car-code/EEG-Motor-Imagery-classifier/env/lib/python3.9/site-packages/pywt/_multilevel.py:43: UserWarning: Level value of 7 is too high: all coefficients will experience boundary effects.\n",
      "  warnings.warn(\n",
      "/media/mohammed/New Volume/graduation project/car-code/EEG-Motor-Imagery-classifier/env/lib/python3.9/site-packages/pywt/_multilevel.py:43: UserWarning: Level value of 7 is too high: all coefficients will experience boundary effects.\n",
      "  warnings.warn(\n",
      "/media/mohammed/New Volume/graduation project/car-code/EEG-Motor-Imagery-classifier/env/lib/python3.9/site-packages/pywt/_multilevel.py:43: UserWarning: Level value of 7 is too high: all coefficients will experience boundary effects.\n",
      "  warnings.warn(\n",
      "/media/mohammed/New Volume/graduation project/car-code/EEG-Motor-Imagery-classifier/env/lib/python3.9/site-packages/pywt/_multilevel.py:43: UserWarning: Level value of 7 is too high: all coefficients will experience boundary effects.\n",
      "  warnings.warn(\n",
      "/media/mohammed/New Volume/graduation project/car-code/EEG-Motor-Imagery-classifier/env/lib/python3.9/site-packages/pywt/_multilevel.py:43: UserWarning: Level value of 7 is too high: all coefficients will experience boundary effects.\n",
      "  warnings.warn(\n",
      "/media/mohammed/New Volume/graduation project/car-code/EEG-Motor-Imagery-classifier/env/lib/python3.9/site-packages/pywt/_multilevel.py:43: UserWarning: Level value of 7 is too high: all coefficients will experience boundary effects.\n",
      "  warnings.warn(\n",
      "/media/mohammed/New Volume/graduation project/car-code/EEG-Motor-Imagery-classifier/env/lib/python3.9/site-packages/pywt/_multilevel.py:43: UserWarning: Level value of 7 is too high: all coefficients will experience boundary effects.\n",
      "  warnings.warn(\n",
      "/media/mohammed/New Volume/graduation project/car-code/EEG-Motor-Imagery-classifier/env/lib/python3.9/site-packages/pywt/_multilevel.py:43: UserWarning: Level value of 7 is too high: all coefficients will experience boundary effects.\n",
      "  warnings.warn(\n",
      "/media/mohammed/New Volume/graduation project/car-code/EEG-Motor-Imagery-classifier/env/lib/python3.9/site-packages/pywt/_multilevel.py:43: UserWarning: Level value of 7 is too high: all coefficients will experience boundary effects.\n",
      "  warnings.warn(\n",
      "/media/mohammed/New Volume/graduation project/car-code/EEG-Motor-Imagery-classifier/env/lib/python3.9/site-packages/pywt/_multilevel.py:43: UserWarning: Level value of 7 is too high: all coefficients will experience boundary effects.\n",
      "  warnings.warn(\n",
      "/media/mohammed/New Volume/graduation project/car-code/EEG-Motor-Imagery-classifier/env/lib/python3.9/site-packages/pywt/_multilevel.py:43: UserWarning: Level value of 7 is too high: all coefficients will experience boundary effects.\n",
      "  warnings.warn(\n",
      "/media/mohammed/New Volume/graduation project/car-code/EEG-Motor-Imagery-classifier/env/lib/python3.9/site-packages/pywt/_multilevel.py:43: UserWarning: Level value of 7 is too high: all coefficients will experience boundary effects.\n",
      "  warnings.warn(\n",
      "/media/mohammed/New Volume/graduation project/car-code/EEG-Motor-Imagery-classifier/env/lib/python3.9/site-packages/pywt/_multilevel.py:43: UserWarning: Level value of 7 is too high: all coefficients will experience boundary effects.\n",
      "  warnings.warn(\n",
      "/media/mohammed/New Volume/graduation project/car-code/EEG-Motor-Imagery-classifier/env/lib/python3.9/site-packages/pywt/_multilevel.py:43: UserWarning: Level value of 7 is too high: all coefficients will experience boundary effects.\n",
      "  warnings.warn(\n",
      "/media/mohammed/New Volume/graduation project/car-code/EEG-Motor-Imagery-classifier/env/lib/python3.9/site-packages/pywt/_multilevel.py:43: UserWarning: Level value of 7 is too high: all coefficients will experience boundary effects.\n",
      "  warnings.warn(\n",
      "/media/mohammed/New Volume/graduation project/car-code/EEG-Motor-Imagery-classifier/env/lib/python3.9/site-packages/pywt/_multilevel.py:43: UserWarning: Level value of 7 is too high: all coefficients will experience boundary effects.\n",
      "  warnings.warn(\n",
      "/media/mohammed/New Volume/graduation project/car-code/EEG-Motor-Imagery-classifier/env/lib/python3.9/site-packages/pywt/_multilevel.py:43: UserWarning: Level value of 7 is too high: all coefficients will experience boundary effects.\n",
      "  warnings.warn(\n",
      "/media/mohammed/New Volume/graduation project/car-code/EEG-Motor-Imagery-classifier/env/lib/python3.9/site-packages/pywt/_multilevel.py:43: UserWarning: Level value of 7 is too high: all coefficients will experience boundary effects.\n",
      "  warnings.warn(\n",
      "/media/mohammed/New Volume/graduation project/car-code/EEG-Motor-Imagery-classifier/env/lib/python3.9/site-packages/pywt/_multilevel.py:43: UserWarning: Level value of 7 is too high: all coefficients will experience boundary effects.\n",
      "  warnings.warn(\n",
      "/media/mohammed/New Volume/graduation project/car-code/EEG-Motor-Imagery-classifier/env/lib/python3.9/site-packages/pywt/_multilevel.py:43: UserWarning: Level value of 7 is too high: all coefficients will experience boundary effects.\n",
      "  warnings.warn(\n",
      "/media/mohammed/New Volume/graduation project/car-code/EEG-Motor-Imagery-classifier/env/lib/python3.9/site-packages/pywt/_multilevel.py:43: UserWarning: Level value of 7 is too high: all coefficients will experience boundary effects.\n",
      "  warnings.warn(\n",
      "/media/mohammed/New Volume/graduation project/car-code/EEG-Motor-Imagery-classifier/env/lib/python3.9/site-packages/pywt/_multilevel.py:43: UserWarning: Level value of 7 is too high: all coefficients will experience boundary effects.\n",
      "  warnings.warn(\n",
      "/media/mohammed/New Volume/graduation project/car-code/EEG-Motor-Imagery-classifier/env/lib/python3.9/site-packages/pywt/_multilevel.py:43: UserWarning: Level value of 7 is too high: all coefficients will experience boundary effects.\n",
      "  warnings.warn(\n",
      "/media/mohammed/New Volume/graduation project/car-code/EEG-Motor-Imagery-classifier/env/lib/python3.9/site-packages/pywt/_multilevel.py:43: UserWarning: Level value of 7 is too high: all coefficients will experience boundary effects.\n",
      "  warnings.warn(\n",
      "/media/mohammed/New Volume/graduation project/car-code/EEG-Motor-Imagery-classifier/env/lib/python3.9/site-packages/pywt/_multilevel.py:43: UserWarning: Level value of 7 is too high: all coefficients will experience boundary effects.\n",
      "  warnings.warn(\n",
      "/media/mohammed/New Volume/graduation project/car-code/EEG-Motor-Imagery-classifier/env/lib/python3.9/site-packages/pywt/_multilevel.py:43: UserWarning: Level value of 7 is too high: all coefficients will experience boundary effects.\n",
      "  warnings.warn(\n",
      "/media/mohammed/New Volume/graduation project/car-code/EEG-Motor-Imagery-classifier/env/lib/python3.9/site-packages/pywt/_multilevel.py:43: UserWarning: Level value of 7 is too high: all coefficients will experience boundary effects.\n",
      "  warnings.warn(\n",
      "/media/mohammed/New Volume/graduation project/car-code/EEG-Motor-Imagery-classifier/env/lib/python3.9/site-packages/pywt/_multilevel.py:43: UserWarning: Level value of 7 is too high: all coefficients will experience boundary effects.\n",
      "  warnings.warn(\n",
      "/media/mohammed/New Volume/graduation project/car-code/EEG-Motor-Imagery-classifier/env/lib/python3.9/site-packages/pywt/_multilevel.py:43: UserWarning: Level value of 7 is too high: all coefficients will experience boundary effects.\n",
      "  warnings.warn(\n",
      "/media/mohammed/New Volume/graduation project/car-code/EEG-Motor-Imagery-classifier/env/lib/python3.9/site-packages/pywt/_multilevel.py:43: UserWarning: Level value of 7 is too high: all coefficients will experience boundary effects.\n",
      "  warnings.warn(\n",
      "/media/mohammed/New Volume/graduation project/car-code/EEG-Motor-Imagery-classifier/env/lib/python3.9/site-packages/pywt/_multilevel.py:43: UserWarning: Level value of 7 is too high: all coefficients will experience boundary effects.\n",
      "  warnings.warn(\n",
      "/media/mohammed/New Volume/graduation project/car-code/EEG-Motor-Imagery-classifier/env/lib/python3.9/site-packages/pywt/_multilevel.py:43: UserWarning: Level value of 7 is too high: all coefficients will experience boundary effects.\n",
      "  warnings.warn(\n",
      "/media/mohammed/New Volume/graduation project/car-code/EEG-Motor-Imagery-classifier/env/lib/python3.9/site-packages/pywt/_multilevel.py:43: UserWarning: Level value of 7 is too high: all coefficients will experience boundary effects.\n",
      "  warnings.warn(\n",
      "/media/mohammed/New Volume/graduation project/car-code/EEG-Motor-Imagery-classifier/env/lib/python3.9/site-packages/pywt/_multilevel.py:43: UserWarning: Level value of 7 is too high: all coefficients will experience boundary effects.\n",
      "  warnings.warn(\n",
      "/media/mohammed/New Volume/graduation project/car-code/EEG-Motor-Imagery-classifier/env/lib/python3.9/site-packages/pywt/_multilevel.py:43: UserWarning: Level value of 7 is too high: all coefficients will experience boundary effects.\n",
      "  warnings.warn(\n",
      "/media/mohammed/New Volume/graduation project/car-code/EEG-Motor-Imagery-classifier/env/lib/python3.9/site-packages/pywt/_multilevel.py:43: UserWarning: Level value of 7 is too high: all coefficients will experience boundary effects.\n",
      "  warnings.warn(\n",
      "/media/mohammed/New Volume/graduation project/car-code/EEG-Motor-Imagery-classifier/env/lib/python3.9/site-packages/pywt/_multilevel.py:43: UserWarning: Level value of 7 is too high: all coefficients will experience boundary effects.\n",
      "  warnings.warn(\n",
      "/media/mohammed/New Volume/graduation project/car-code/EEG-Motor-Imagery-classifier/env/lib/python3.9/site-packages/pywt/_multilevel.py:43: UserWarning: Level value of 7 is too high: all coefficients will experience boundary effects.\n",
      "  warnings.warn(\n",
      "/media/mohammed/New Volume/graduation project/car-code/EEG-Motor-Imagery-classifier/env/lib/python3.9/site-packages/pywt/_multilevel.py:43: UserWarning: Level value of 7 is too high: all coefficients will experience boundary effects.\n",
      "  warnings.warn(\n",
      "/media/mohammed/New Volume/graduation project/car-code/EEG-Motor-Imagery-classifier/env/lib/python3.9/site-packages/pywt/_multilevel.py:43: UserWarning: Level value of 7 is too high: all coefficients will experience boundary effects.\n",
      "  warnings.warn(\n",
      "/media/mohammed/New Volume/graduation project/car-code/EEG-Motor-Imagery-classifier/env/lib/python3.9/site-packages/pywt/_multilevel.py:43: UserWarning: Level value of 7 is too high: all coefficients will experience boundary effects.\n",
      "  warnings.warn(\n",
      "/media/mohammed/New Volume/graduation project/car-code/EEG-Motor-Imagery-classifier/env/lib/python3.9/site-packages/pywt/_multilevel.py:43: UserWarning: Level value of 7 is too high: all coefficients will experience boundary effects.\n",
      "  warnings.warn(\n",
      "/media/mohammed/New Volume/graduation project/car-code/EEG-Motor-Imagery-classifier/env/lib/python3.9/site-packages/pywt/_multilevel.py:43: UserWarning: Level value of 7 is too high: all coefficients will experience boundary effects.\n",
      "  warnings.warn(\n",
      "/media/mohammed/New Volume/graduation project/car-code/EEG-Motor-Imagery-classifier/env/lib/python3.9/site-packages/pywt/_multilevel.py:43: UserWarning: Level value of 7 is too high: all coefficients will experience boundary effects.\n",
      "  warnings.warn(\n",
      "/media/mohammed/New Volume/graduation project/car-code/EEG-Motor-Imagery-classifier/env/lib/python3.9/site-packages/pywt/_multilevel.py:43: UserWarning: Level value of 7 is too high: all coefficients will experience boundary effects.\n",
      "  warnings.warn(\n"
     ]
    }
   ],
   "source": [
    "y_predicted = [efficient_predict(x_val) for x_val in x ] \n",
    "print(y_predicted)"
   ]
  },
  {
   "cell_type": "code",
   "execution_count": 42,
   "metadata": {},
   "outputs": [
    {
     "name": "stdout",
     "output_type": "stream",
     "text": [
      "['L', 'R ', 'B', 'B', 'R ', 'B', 'L', 'B', 'F', 'B', 'B', 'L', 'L', 'B', 'L', 'B', 'L', 'R ', 'B', 'F', 'B', 'L', 'R ', 'R ', 'R ', 'L', 'B', 'B', 'R ', 'L', 'B', 'L', 'R ', 'B', 'B', 'F', 'R ', 'F', 'B', 'L', 'L', 'R ', 'L', 'L', 'R ', 'R ', 'B', 'L', 'B', 'B', 'R ', 'R ', 'R ', 'B', 'F', 'R ', 'F', 'B']\n",
      "['L' 'R ' 'F' 'B' 'R ' 'B' 'L' 'B' 'F' 'B' 'B' 'L' 'L' 'B' 'L' 'F' 'L'\n",
      " 'R ' 'B' 'F' 'B' 'L' 'R ' 'R ' 'R ' 'L' 'B' 'B' 'R ' 'F' 'B' 'R ' 'R '\n",
      " 'B' 'F' 'F' 'R ' 'F' 'B' 'R ' 'L' 'R ' 'R ' 'L' 'R ' 'L' 'B' 'L' 'R ' 'B'\n",
      " 'R ' 'R ' 'R ' 'B' 'F' 'F' 'F' 'B']\n",
      "48 58 0.8275862068965517\n"
     ]
    }
   ],
   "source": [
    "accuracy=0\n",
    "print(y_predicted)\n",
    "print(y)\n",
    "for yt, yp in zip(y,y_predicted):\n",
    "    if yt == yp:\n",
    "        accuracy+=1\n",
    "\n",
    "print(accuracy, len(y), (accuracy / len(y)))\n",
    "# print(sum(accuracy), sum(accuracy) / len(y))"
   ]
  },
  {
   "cell_type": "code",
   "execution_count": 10,
   "metadata": {},
   "outputs": [
    {
     "name": "stdout",
     "output_type": "stream",
     "text": [
      "0.8275862068965517\n"
     ]
    },
    {
     "name": "stderr",
     "output_type": "stream",
     "text": [
      "/media/mohammed/New Volume/graduation project/car-code/EEG-Motor-Imagery-classifier/env/lib/python3.9/site-packages/sklearn/base.py:329: UserWarning: Trying to unpickle estimator StandardScaler from version 1.0.1 when using version 1.1.1. This might lead to breaking code or invalid results. Use at your own risk. For more info please refer to:\n",
      "https://scikit-learn.org/stable/model_persistence.html#security-maintainability-limitations\n",
      "  warnings.warn(\n",
      "/media/mohammed/New Volume/graduation project/car-code/EEG-Motor-Imagery-classifier/env/lib/python3.9/site-packages/sklearn/base.py:329: UserWarning: Trying to unpickle estimator SVC from version 1.0.1 when using version 1.1.1. This might lead to breaking code or invalid results. Use at your own risk. For more info please refer to:\n",
      "https://scikit-learn.org/stable/model_persistence.html#security-maintainability-limitations\n",
      "  warnings.warn(\n",
      "/media/mohammed/New Volume/graduation project/car-code/EEG-Motor-Imagery-classifier/env/lib/python3.9/site-packages/sklearn/base.py:329: UserWarning: Trying to unpickle estimator Pipeline from version 1.0.1 when using version 1.1.1. This might lead to breaking code or invalid results. Use at your own risk. For more info please refer to:\n",
      "https://scikit-learn.org/stable/model_persistence.html#security-maintainability-limitations\n",
      "  warnings.warn(\n",
      "/media/mohammed/New Volume/graduation project/car-code/EEG-Motor-Imagery-classifier/env/lib/python3.9/site-packages/pywt/_multilevel.py:43: UserWarning: Level value of 7 is too high: all coefficients will experience boundary effects.\n",
      "  warnings.warn(\n"
     ]
    }
   ],
   "source": [
    "model = load(\"model.joblib\")\n",
    "csp = load(\"csp.joblib\")\n",
    "y = np.load(f\"numpy_test_data/{8}Y.npy\")\n",
    "\n",
    "test_coeff = featurize(x)\n",
    "coeff_len = len(test_coeff)\n",
    "  \n",
    "X_test_f = np.concatenate(tuple(csp[j].transform(test_coeff[j]) for j in range(coeff_len)), axis=-1)\n",
    "print(model.score(X_test_f, y))"
   ]
  },
  {
   "cell_type": "code",
   "execution_count": null,
   "metadata": {},
   "outputs": [],
   "source": []
  }
 ],
 "metadata": {
  "kernelspec": {
   "display_name": "Python 3.8.10 64-bit",
   "language": "python",
   "name": "python3"
  },
  "language_info": {
   "codemirror_mode": {
    "name": "ipython",
    "version": 3
   },
   "file_extension": ".py",
   "mimetype": "text/x-python",
   "name": "python",
   "nbconvert_exporter": "python",
   "pygments_lexer": "ipython3",
   "version": "3.8.10"
  },
  "orig_nbformat": 4,
  "vscode": {
   "interpreter": {
    "hash": "916dbcbb3f70747c44a77c7bcd40155683ae19c65e1c03b4aa3499c5328201f1"
   }
  }
 },
 "nbformat": 4,
 "nbformat_minor": 2
}
