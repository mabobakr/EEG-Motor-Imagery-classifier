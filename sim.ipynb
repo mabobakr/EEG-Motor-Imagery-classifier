{
 "cells": [
  {
   "cell_type": "code",
   "execution_count": 31,
   "metadata": {},
   "outputs": [
    {
     "name": "stdout",
     "output_type": "stream",
     "text": [
      "The autoreload extension is already loaded. To reload it, use:\n",
      "  %reload_ext autoreload\n"
     ]
    }
   ],
   "source": [
    "from preprocessing import * \n",
    "from sklearn import svm\n",
    "from sklearn import pipeline\n",
    "from joblib import dump, load\n",
    "\n",
    "\n",
    "\n",
    "%load_ext autoreload\n",
    "%autoreload 2"
   ]
  },
  {
   "cell_type": "markdown",
   "metadata": {},
   "source": [
    "# Create test data folder"
   ]
  },
  {
   "cell_type": "code",
   "execution_count": 2,
   "metadata": {},
   "outputs": [],
   "source": [
    "create_test_data()"
   ]
  },
  {
   "cell_type": "markdown",
   "metadata": {},
   "source": [
    "# Load the model parameters and data"
   ]
  },
  {
   "cell_type": "code",
   "execution_count": 33,
   "metadata": {},
   "outputs": [
    {
     "name": "stdout",
     "output_type": "stream",
     "text": [
      "(58, 25, 313) ['L' 'R' 'F' 'B' 'R' 'B' 'L' 'B' 'F' 'B' 'B' 'L' 'L' 'B' 'L' 'F' 'L' 'R'\n",
      " 'B' 'F' 'B' 'L' 'R' 'R' 'R' 'L' 'B' 'B' 'R' 'F' 'B' 'R' 'R' 'B' 'F' 'F'\n",
      " 'R' 'F' 'B' 'R' 'L' 'R' 'R' 'L' 'R' 'L' 'B' 'L' 'R' 'B' 'R' 'R' 'R' 'B'\n",
      " 'F' 'F' 'F' 'B']\n"
     ]
    }
   ],
   "source": [
    "\n",
    "x, y = read_file_sim(8)\n",
    "print(x.shape, y)\n"
   ]
  },
  {
   "cell_type": "markdown",
   "metadata": {},
   "source": [
    "# Extract features and predict"
   ]
  },
  {
   "cell_type": "code",
   "execution_count": 36,
   "metadata": {},
   "outputs": [
    {
     "name": "stderr",
     "output_type": "stream",
     "text": [
      "c:\\Users\\Mohamad Abo Bakr\\AppData\\Local\\Programs\\Python\\Python39\\lib\\site-packages\\pywt\\_multilevel.py:43: UserWarning: Level value of 7 is too high: all coefficients will experience boundary effects.\n",
      "  warnings.warn(\n"
     ]
    },
    {
     "data": {
      "text/plain": [
       "'F'"
      ]
     },
     "execution_count": 36,
     "metadata": {},
     "output_type": "execute_result"
    }
   ],
   "source": [
    "model = load(\"model.joblib\")\n",
    "csp = load(\"csp.joblib\")\n",
    "predict(x[0], model, csp)"
   ]
  },
  {
   "cell_type": "code",
   "execution_count": 5,
   "metadata": {},
   "outputs": [
    {
     "name": "stdout",
     "output_type": "stream",
     "text": [
      "0.8275862068965517\n"
     ]
    },
    {
     "name": "stderr",
     "output_type": "stream",
     "text": [
      "c:\\Users\\Mohamad Abo Bakr\\AppData\\Local\\Programs\\Python\\Python39\\lib\\site-packages\\pywt\\_multilevel.py:43: UserWarning: Level value of 7 is too high: all coefficients will experience boundary effects.\n",
      "  warnings.warn(\n"
     ]
    }
   ],
   "source": [
    "\n",
    "y = np.load(f\"numpy_test_data/{8}Y.npy\")\n",
    "\n",
    "test_coeff = featurize(x)\n",
    "coeff_len = len(test_coeff)\n",
    "  \n",
    "X_test_f = np.concatenate(tuple(csp[j].transform(test_coeff[j]) for j in range(coeff_len)), axis=-1)\n",
    "print(model.score(X_test_f, y))"
   ]
  },
  {
   "cell_type": "code",
   "execution_count": 38,
   "metadata": {},
   "outputs": [
    {
     "name": "stdout",
     "output_type": "stream",
     "text": [
      "0.6979166666666666\n"
     ]
    },
    {
     "name": "stderr",
     "output_type": "stream",
     "text": [
      "c:\\Users\\Mohamad Abo Bakr\\AppData\\Local\\Programs\\Python\\Python39\\lib\\site-packages\\pywt\\_multilevel.py:43: UserWarning: Level value of 7 is too high: all coefficients will experience boundary effects.\n",
      "  warnings.warn(\n"
     ]
    }
   ],
   "source": [
    "import scipy.io as io\n",
    "labels = {\"L\":1, \"R\": 2, \"F\":3, \"B\": 4}\n",
    "i = 8\n",
    "x = np.load(f\"numpy_data/A0{i}EX.npy\")\n",
    "x = x[:, :,1:]\n",
    "x = np.swapaxes(x, 1, 2)\n",
    "\n",
    "y = io.loadmat(\"true labels/A08T.mat\")\n",
    "y = y['classlabel'].reshape(288)\n",
    "\n",
    "test_coeff = featurize(x)\n",
    "coeff_len = len(test_coeff)\n",
    "  \n",
    "X_test_f = np.concatenate(tuple(csp[j].transform(test_coeff[j]) for j in range(coeff_len)), axis=-1)\n",
    "print(model.score(X_test_f, y))\n",
    "# y = np.load(\"numpy_data/A08TY.npy\")\n",
    "\n",
    "# for i, j in zip(y2['classlabel'], x):\n",
    "#   res = predict(j, model, csp)\n",
    "#   print(i[0] == labels[res], i[0], res)"
   ]
  },
  {
   "cell_type": "code",
   "execution_count": null,
   "metadata": {},
   "outputs": [],
   "source": []
  }
 ],
 "metadata": {
  "kernelspec": {
   "display_name": "Python 3.9.1 64-bit",
   "language": "python",
   "name": "python3"
  },
  "language_info": {
   "codemirror_mode": {
    "name": "ipython",
    "version": 3
   },
   "file_extension": ".py",
   "mimetype": "text/x-python",
   "name": "python",
   "nbconvert_exporter": "python",
   "pygments_lexer": "ipython3",
   "version": "3.9.1"
  },
  "orig_nbformat": 4,
  "vscode": {
   "interpreter": {
    "hash": "e5356a0cc24ab421f3fea7505d1e0be20cb885e675eb5d16ff02cf791c65a604"
   }
  }
 },
 "nbformat": 4,
 "nbformat_minor": 2
}
