{
 "cells": [
  {
   "cell_type": "code",
   "execution_count": 21,
   "metadata": {},
   "outputs": [
    {
     "name": "stdout",
     "output_type": "stream",
     "text": [
      "The autoreload extension is already loaded. To reload it, use:\n",
      "  %reload_ext autoreload\n"
     ]
    }
   ],
   "source": [
    "from preprocessing import * \n",
    "from sklearn import svm\n",
    "from sklearn import pipeline\n",
    "from joblib import dump, load\n",
    "\n",
    "\n",
    "\n",
    "%load_ext autoreload\n",
    "%autoreload 2"
   ]
  },
  {
   "cell_type": "markdown",
   "metadata": {},
   "source": [
    "# Create test data folder"
   ]
  },
  {
   "cell_type": "code",
   "execution_count": 22,
   "metadata": {},
   "outputs": [],
   "source": [
    "create_test_data()"
   ]
  },
  {
   "cell_type": "markdown",
   "metadata": {},
   "source": [
    "# Load the model parameters and data"
   ]
  },
  {
   "cell_type": "code",
   "execution_count": 23,
   "metadata": {},
   "outputs": [
    {
     "name": "stdout",
     "output_type": "stream",
     "text": [
      "(58, 25, 313) ['L' 'R ' 'F' 'B' 'R ' 'B' 'L' 'B' 'F' 'B' 'B' 'L' 'L' 'B' 'L' 'F' 'L'\n",
      " 'R ' 'B' 'F' 'B' 'L' 'R ' 'R ' 'R ' 'L' 'B' 'B' 'R ' 'F' 'B' 'R ' 'R '\n",
      " 'B' 'F' 'F' 'R ' 'F' 'B' 'R ' 'L' 'R ' 'R ' 'L' 'R ' 'L' 'B' 'L' 'R ' 'B'\n",
      " 'R ' 'R ' 'R ' 'B' 'F' 'F' 'F' 'B']\n"
     ]
    }
   ],
   "source": [
    "\n",
    "x, y = read_file_sim(8)\n",
    "print(x.shape, y)\n"
   ]
  },
  {
   "cell_type": "markdown",
   "metadata": {},
   "source": [
    "# Extract features and predict"
   ]
  },
  {
   "cell_type": "code",
   "execution_count": 24,
   "metadata": {},
   "outputs": [],
   "source": []
  },
  {
   "cell_type": "code",
   "execution_count": 25,
   "metadata": {},
   "outputs": [
    {
     "name": "stderr",
     "output_type": "stream",
     "text": [
      "c:\\Users\\Mohamad Abo Bakr\\AppData\\Local\\Programs\\Python\\Python39\\lib\\site-packages\\pywt\\_multilevel.py:43: UserWarning: Level value of 7 is too high: all coefficients will experience boundary effects.\n",
      "  warnings.warn(\n"
     ]
    },
    {
     "data": {
      "text/plain": [
       "'L'"
      ]
     },
     "execution_count": 25,
     "metadata": {},
     "output_type": "execute_result"
    }
   ],
   "source": [
    "predict(x[0], \"model.joblib\", \"csp.joblib\")"
   ]
  },
  {
   "cell_type": "code",
   "execution_count": null,
   "metadata": {},
   "outputs": [],
   "source": []
  }
 ],
 "metadata": {
  "kernelspec": {
   "display_name": "Python 3.9.1 64-bit",
   "language": "python",
   "name": "python3"
  },
  "language_info": {
   "codemirror_mode": {
    "name": "ipython",
    "version": 3
   },
   "file_extension": ".py",
   "mimetype": "text/x-python",
   "name": "python",
   "nbconvert_exporter": "python",
   "pygments_lexer": "ipython3",
   "version": "3.9.1"
  },
  "orig_nbformat": 4,
  "vscode": {
   "interpreter": {
    "hash": "e5356a0cc24ab421f3fea7505d1e0be20cb885e675eb5d16ff02cf791c65a604"
   }
  }
 },
 "nbformat": 4,
 "nbformat_minor": 2
}
